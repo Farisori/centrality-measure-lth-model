{
 "cells": [
  {
   "cell_type": "code",
   "execution_count": 1,
   "metadata": {
    "collapsed": true
   },
   "outputs": [],
   "source": [
    "import pandas as pd\n",
    "import csv"
   ]
  },
  {
   "cell_type": "code",
   "execution_count": 5,
   "metadata": {
    "collapsed": false
   },
   "outputs": [],
   "source": [
    "#Retweet Network\n",
    "path = '../../data/processed'\n",
    "\n",
    "ktz = pd.read_csv(path + '/katz_centrality_1e1.csv')\n",
    "ltcA = pd.read_csv(path + '/lt_centrality_alternative.csv')\n",
    "pgr = pd.read_csv(path + '/page_rank.csv')\n",
    "deg = pd.read_csv(path + '/degree_centrality.csv')\n",
    "clos = pd.read_csv(path +'/closseness_centrality.csv')\n",
    "bet = pd.read_csv(path +'/betweenness_centrality.csv')"
   ]
  },
  {
   "cell_type": "code",
   "execution_count": 6,
   "metadata": {
    "collapsed": false
   },
   "outputs": [],
   "source": [
    "#ltc = (ltc - ltc.mean()) / (ltc.max() - ltc.min())"
   ]
  },
  {
   "cell_type": "code",
   "execution_count": 8,
   "metadata": {
    "collapsed": false
   },
   "outputs": [],
   "source": [
    "ltc_dict = {}\n",
    "with open(path + '/lt_centrality.csv', 'r') as csvfile:\n",
    "    lineal_threshold = csv.reader(csvfile, delimiter=',')\n",
    "    for row in lineal_threshold:\n",
    "        k, v = row\n",
    "        ltc_dict[k] = v"
   ]
  },
  {
   "cell_type": "code",
   "execution_count": 9,
   "metadata": {
    "collapsed": false
   },
   "outputs": [],
   "source": [
    "ltc = pd.DataFrame([[key,value] for key,value in ltc_dict.items()],columns=[\"node\",\"lineal_threshold\"])\n",
    "# ltc.head()"
   ]
  },
  {
   "cell_type": "code",
   "execution_count": 10,
   "metadata": {
    "collapsed": false
   },
   "outputs": [],
   "source": [
    "del ltcA['node']\n",
    "del ltc['node']\n",
    "del pgr['node']\n",
    "del deg['node']\n",
    "del clos['node']\n",
    "del bet['node']"
   ]
  },
  {
   "cell_type": "code",
   "execution_count": 11,
   "metadata": {
    "collapsed": false
   },
   "outputs": [
    {
     "name": "stderr",
     "output_type": "stream",
     "text": [
      "/usr/local/lib/python3.4/dist-packages/ipykernel/__main__.py:2: FutureWarning: convert_objects is deprecated.  Use the data-type specific converters pd.to_datetime, pd.to_timedelta and pd.to_numeric.\n",
      "  from ipykernel import kernelapp as app\n"
     ]
    },
    {
     "data": {
      "text/html": [
       "<div>\n",
       "<table border=\"1\" class=\"dataframe\">\n",
       "  <thead>\n",
       "    <tr style=\"text-align: right;\">\n",
       "      <th></th>\n",
       "      <th>node</th>\n",
       "      <th>katz_centrality</th>\n",
       "      <th>lineal_threshold</th>\n",
       "      <th>lineal_threshold_alternative</th>\n",
       "      <th>pagerank</th>\n",
       "      <th>degree</th>\n",
       "      <th>closs</th>\n",
       "      <th>betweenness</th>\n",
       "    </tr>\n",
       "  </thead>\n",
       "  <tbody>\n",
       "    <tr>\n",
       "      <th>0</th>\n",
       "      <td>2</td>\n",
       "      <td>0.001769</td>\n",
       "      <td>22</td>\n",
       "      <td>1</td>\n",
       "      <td>0.000003</td>\n",
       "      <td>0.000004</td>\n",
       "      <td>0.000000</td>\n",
       "      <td>0.000000</td>\n",
       "    </tr>\n",
       "    <tr>\n",
       "      <th>1</th>\n",
       "      <td>3</td>\n",
       "      <td>0.001769</td>\n",
       "      <td>1041</td>\n",
       "      <td>1</td>\n",
       "      <td>0.000003</td>\n",
       "      <td>0.000004</td>\n",
       "      <td>0.000000</td>\n",
       "      <td>0.000000</td>\n",
       "    </tr>\n",
       "    <tr>\n",
       "      <th>2</th>\n",
       "      <td>4</td>\n",
       "      <td>0.003088</td>\n",
       "      <td>1034</td>\n",
       "      <td>93</td>\n",
       "      <td>0.000004</td>\n",
       "      <td>0.000320</td>\n",
       "      <td>0.000329</td>\n",
       "      <td>0.000002</td>\n",
       "    </tr>\n",
       "    <tr>\n",
       "      <th>3</th>\n",
       "      <td>5</td>\n",
       "      <td>0.001608</td>\n",
       "      <td>2</td>\n",
       "      <td>26</td>\n",
       "      <td>0.000003</td>\n",
       "      <td>0.000094</td>\n",
       "      <td>0.000096</td>\n",
       "      <td>0.000000</td>\n",
       "    </tr>\n",
       "    <tr>\n",
       "      <th>4</th>\n",
       "      <td>6</td>\n",
       "      <td>0.001608</td>\n",
       "      <td>519</td>\n",
       "      <td>85</td>\n",
       "      <td>0.000003</td>\n",
       "      <td>0.000324</td>\n",
       "      <td>0.000324</td>\n",
       "      <td>0.000000</td>\n",
       "    </tr>\n",
       "  </tbody>\n",
       "</table>\n",
       "</div>"
      ],
      "text/plain": [
       "   node  katz_centrality  lineal_threshold  lineal_threshold_alternative  \\\n",
       "0     2         0.001769                22                             1   \n",
       "1     3         0.001769              1041                             1   \n",
       "2     4         0.003088              1034                            93   \n",
       "3     5         0.001608                 2                            26   \n",
       "4     6         0.001608               519                            85   \n",
       "\n",
       "   pagerank    degree     closs  betweenness  \n",
       "0  0.000003  0.000004  0.000000     0.000000  \n",
       "1  0.000003  0.000004  0.000000     0.000000  \n",
       "2  0.000004  0.000320  0.000329     0.000002  \n",
       "3  0.000003  0.000094  0.000096     0.000000  \n",
       "4  0.000003  0.000324  0.000324     0.000000  "
      ]
     },
     "execution_count": 11,
     "metadata": {},
     "output_type": "execute_result"
    }
   ],
   "source": [
    "influence_model = pd.concat([ktz,ltc, ltcA, pgr, deg, clos, bet], axis=1)\n",
    "influence_model['lineal_threshold'] = influence_model['lineal_threshold'].convert_objects(convert_numeric=True)\n",
    "influence_model.head()"
   ]
  },
  {
   "cell_type": "code",
   "execution_count": 31,
   "metadata": {
    "collapsed": false
   },
   "outputs": [],
   "source": [
    "# select columns to plot\n",
    "influence_model = influence_model[['node', 'lineal_threshold', 'katz_centrality', 'pagerank']]\n",
    "\n",
    "# Normalize lineal_threshold\n",
    "influence_model['lineal_threshold'] = influence_model['lineal_threshold'].astype(float)\n",
    "influence_model['lineal_threshold'] = (influence_model['lineal_threshold'] / 256490)"
   ]
  },
  {
   "cell_type": "code",
   "execution_count": 32,
   "metadata": {
    "collapsed": false
   },
   "outputs": [
    {
     "name": "stdout",
     "output_type": "stream",
     "text": [
      "Populating the interactive namespace from numpy and matplotlib\n"
     ]
    }
   ],
   "source": [
    "import matplotlib\n",
    "import numpy as np\n",
    "import matplotlib.pyplot as plt\n",
    "import seaborn as sns\n",
    "\n",
    "%matplotlib inline\n",
    "%pylab inline\n",
    "\n",
    "pylab.rcParams['figure.figsize'] = (12, 7)"
   ]
  },
  {
   "cell_type": "code",
   "execution_count": 33,
   "metadata": {
    "collapsed": false
   },
   "outputs": [
    {
     "data": {
      "image/png": "[encoded data removed]",
      "text/plain": [
       "<matplotlib.figure.Figure at 0x7f7e1d3bc080>"
      ]
     },
     "metadata": {},
     "output_type": "display_data"
    }
   ],
   "source": [
    "influence_model['node'] = influence_model['node'].astype(str)\n",
    "\n",
    "_ = influence_model.plot(subplots=True)"
   ]
  },
  {
   "cell_type": "code",
   "execution_count": 10,
   "metadata": {
    "collapsed": false
   },
   "outputs": [],
   "source": [
    "#_ = influence_model.plot.bar()"
   ]
  },
  {
   "cell_type": "code",
   "execution_count": 34,
   "metadata": {
    "collapsed": false
   },
   "outputs": [
    {
     "data": {
      "text/html": [
       "<div>\n",
       "<table border=\"1\" class=\"dataframe\">\n",
       "  <thead>\n",
       "    <tr style=\"text-align: right;\">\n",
       "      <th></th>\n",
       "      <th>katz_centrality</th>\n",
       "      <th>lineal_threshold</th>\n",
       "      <th>lineal_threshold_alternative</th>\n",
       "      <th>pagerank</th>\n",
       "      <th>degree</th>\n",
       "      <th>closs</th>\n",
       "      <th>betweenness</th>\n",
       "    </tr>\n",
       "  </thead>\n",
       "  <tbody>\n",
       "    <tr>\n",
       "      <th>katz_centrality</th>\n",
       "      <td>1.000000</td>\n",
       "      <td>-0.000584</td>\n",
       "      <td>0.108513</td>\n",
       "      <td>0.299347</td>\n",
       "      <td>0.057068</td>\n",
       "      <td>0.158626</td>\n",
       "      <td>0.291672</td>\n",
       "    </tr>\n",
       "    <tr>\n",
       "      <th>lineal_threshold</th>\n",
       "      <td>-0.000584</td>\n",
       "      <td>1.000000</td>\n",
       "      <td>-0.001480</td>\n",
       "      <td>0.000910</td>\n",
       "      <td>-0.002376</td>\n",
       "      <td>0.002083</td>\n",
       "      <td>-0.000937</td>\n",
       "    </tr>\n",
       "    <tr>\n",
       "      <th>lineal_threshold_alternative</th>\n",
       "      <td>0.108513</td>\n",
       "      <td>-0.001480</td>\n",
       "      <td>1.000000</td>\n",
       "      <td>0.017692</td>\n",
       "      <td>0.810747</td>\n",
       "      <td>0.308586</td>\n",
       "      <td>0.630616</td>\n",
       "    </tr>\n",
       "    <tr>\n",
       "      <th>pagerank</th>\n",
       "      <td>0.299347</td>\n",
       "      <td>0.000910</td>\n",
       "      <td>0.017692</td>\n",
       "      <td>1.000000</td>\n",
       "      <td>0.015809</td>\n",
       "      <td>0.042158</td>\n",
       "      <td>0.074014</td>\n",
       "    </tr>\n",
       "    <tr>\n",
       "      <th>degree</th>\n",
       "      <td>0.057068</td>\n",
       "      <td>-0.002376</td>\n",
       "      <td>0.810747</td>\n",
       "      <td>0.015809</td>\n",
       "      <td>1.000000</td>\n",
       "      <td>0.232486</td>\n",
       "      <td>0.468540</td>\n",
       "    </tr>\n",
       "    <tr>\n",
       "      <th>closs</th>\n",
       "      <td>0.158626</td>\n",
       "      <td>0.002083</td>\n",
       "      <td>0.308586</td>\n",
       "      <td>0.042158</td>\n",
       "      <td>0.232486</td>\n",
       "      <td>1.000000</td>\n",
       "      <td>0.279845</td>\n",
       "    </tr>\n",
       "    <tr>\n",
       "      <th>betweenness</th>\n",
       "      <td>0.291672</td>\n",
       "      <td>-0.000937</td>\n",
       "      <td>0.630616</td>\n",
       "      <td>0.074014</td>\n",
       "      <td>0.468540</td>\n",
       "      <td>0.279845</td>\n",
       "      <td>1.000000</td>\n",
       "    </tr>\n",
       "  </tbody>\n",
       "</table>\n",
       "</div>"
      ],
      "text/plain": [
       "                              katz_centrality  lineal_threshold  \\\n",
       "katz_centrality                      1.000000         -0.000584   \n",
       "lineal_threshold                    -0.000584          1.000000   \n",
       "lineal_threshold_alternative         0.108513         -0.001480   \n",
       "pagerank                             0.299347          0.000910   \n",
       "degree                               0.057068         -0.002376   \n",
       "closs                                0.158626          0.002083   \n",
       "betweenness                          0.291672         -0.000937   \n",
       "\n",
       "                              lineal_threshold_alternative  pagerank  \\\n",
       "katz_centrality                                   0.108513  0.299347   \n",
       "lineal_threshold                                 -0.001480  0.000910   \n",
       "lineal_threshold_alternative                      1.000000  0.017692   \n",
       "pagerank                                          0.017692  1.000000   \n",
       "degree                                            0.810747  0.015809   \n",
       "closs                                             0.308586  0.042158   \n",
       "betweenness                                       0.630616  0.074014   \n",
       "\n",
       "                                degree     closs  betweenness  \n",
       "katz_centrality               0.057068  0.158626     0.291672  \n",
       "lineal_threshold             -0.002376  0.002083    -0.000937  \n",
       "lineal_threshold_alternative  0.810747  0.308586     0.630616  \n",
       "pagerank                      0.015809  0.042158     0.074014  \n",
       "degree                        1.000000  0.232486     0.468540  \n",
       "closs                         0.232486  1.000000     0.279845  \n",
       "betweenness                   0.468540  0.279845     1.000000  "
      ]
     },
     "execution_count": 34,
     "metadata": {},
     "output_type": "execute_result"
    }
   ],
   "source": [
    "influence_model.corr()"
   ]
  },
  {
   "cell_type": "code",
   "execution_count": 35,
   "metadata": {
    "collapsed": false
   },
   "outputs": [
    {
     "data": {
      "text/html": [
       "<div>\n",
       "<table border=\"1\" class=\"dataframe\">\n",
       "  <thead>\n",
       "    <tr style=\"text-align: right;\">\n",
       "      <th></th>\n",
       "      <th>katz_centrality</th>\n",
       "      <th>lineal_threshold</th>\n",
       "      <th>lineal_threshold_alternative</th>\n",
       "      <th>pagerank</th>\n",
       "      <th>degree</th>\n",
       "      <th>closs</th>\n",
       "      <th>betweenness</th>\n",
       "    </tr>\n",
       "  </thead>\n",
       "  <tbody>\n",
       "    <tr>\n",
       "      <th>katz_centrality</th>\n",
       "      <td>1.000000</td>\n",
       "      <td>-0.002465</td>\n",
       "      <td>-0.357692</td>\n",
       "      <td>0.387972</td>\n",
       "      <td>0.447223</td>\n",
       "      <td>-0.356765</td>\n",
       "      <td>0.189998</td>\n",
       "    </tr>\n",
       "    <tr>\n",
       "      <th>lineal_threshold</th>\n",
       "      <td>-0.002465</td>\n",
       "      <td>1.000000</td>\n",
       "      <td>-0.001506</td>\n",
       "      <td>-0.000927</td>\n",
       "      <td>-0.005192</td>\n",
       "      <td>-0.001450</td>\n",
       "      <td>0.001594</td>\n",
       "    </tr>\n",
       "    <tr>\n",
       "      <th>lineal_threshold_alternative</th>\n",
       "      <td>-0.357692</td>\n",
       "      <td>-0.001506</td>\n",
       "      <td>1.000000</td>\n",
       "      <td>-0.365848</td>\n",
       "      <td>0.399200</td>\n",
       "      <td>0.999744</td>\n",
       "      <td>0.534282</td>\n",
       "    </tr>\n",
       "    <tr>\n",
       "      <th>pagerank</th>\n",
       "      <td>0.387972</td>\n",
       "      <td>-0.000927</td>\n",
       "      <td>-0.365848</td>\n",
       "      <td>1.000000</td>\n",
       "      <td>0.164376</td>\n",
       "      <td>-0.365118</td>\n",
       "      <td>0.137843</td>\n",
       "    </tr>\n",
       "    <tr>\n",
       "      <th>degree</th>\n",
       "      <td>0.447223</td>\n",
       "      <td>-0.005192</td>\n",
       "      <td>0.399200</td>\n",
       "      <td>0.164376</td>\n",
       "      <td>1.000000</td>\n",
       "      <td>0.399223</td>\n",
       "      <td>0.425479</td>\n",
       "    </tr>\n",
       "    <tr>\n",
       "      <th>closs</th>\n",
       "      <td>-0.356765</td>\n",
       "      <td>-0.001450</td>\n",
       "      <td>0.999744</td>\n",
       "      <td>-0.365118</td>\n",
       "      <td>0.399223</td>\n",
       "      <td>1.000000</td>\n",
       "      <td>0.535385</td>\n",
       "    </tr>\n",
       "    <tr>\n",
       "      <th>betweenness</th>\n",
       "      <td>0.189998</td>\n",
       "      <td>0.001594</td>\n",
       "      <td>0.534282</td>\n",
       "      <td>0.137843</td>\n",
       "      <td>0.425479</td>\n",
       "      <td>0.535385</td>\n",
       "      <td>1.000000</td>\n",
       "    </tr>\n",
       "  </tbody>\n",
       "</table>\n",
       "</div>"
      ],
      "text/plain": [
       "                              katz_centrality  lineal_threshold  \\\n",
       "katz_centrality                      1.000000         -0.002465   \n",
       "lineal_threshold                    -0.002465          1.000000   \n",
       "lineal_threshold_alternative        -0.357692         -0.001506   \n",
       "pagerank                             0.387972         -0.000927   \n",
       "degree                               0.447223         -0.005192   \n",
       "closs                               -0.356765         -0.001450   \n",
       "betweenness                          0.189998          0.001594   \n",
       "\n",
       "                              lineal_threshold_alternative  pagerank  \\\n",
       "katz_centrality                                  -0.357692  0.387972   \n",
       "lineal_threshold                                 -0.001506 -0.000927   \n",
       "lineal_threshold_alternative                      1.000000 -0.365848   \n",
       "pagerank                                         -0.365848  1.000000   \n",
       "degree                                            0.399200  0.164376   \n",
       "closs                                             0.999744 -0.365118   \n",
       "betweenness                                       0.534282  0.137843   \n",
       "\n",
       "                                degree     closs  betweenness  \n",
       "katz_centrality               0.447223 -0.356765     0.189998  \n",
       "lineal_threshold             -0.005192 -0.001450     0.001594  \n",
       "lineal_threshold_alternative  0.399200  0.999744     0.534282  \n",
       "pagerank                      0.164376 -0.365118     0.137843  \n",
       "degree                        1.000000  0.399223     0.425479  \n",
       "closs                         0.399223  1.000000     0.535385  \n",
       "betweenness                   0.425479  0.535385     1.000000  "
      ]
     },
     "execution_count": 35,
     "metadata": {},
     "output_type": "execute_result"
    }
   ],
   "source": [
    "influence_model.corr(method='spearman')"
   ]
  },
  {
   "cell_type": "code",
   "execution_count": 36,
   "metadata": {
    "collapsed": false
   },
   "outputs": [
    {
     "data": {
      "text/html": [
       "<div>\n",
       "<table border=\"1\" class=\"dataframe\">\n",
       "  <thead>\n",
       "    <tr style=\"text-align: right;\">\n",
       "      <th></th>\n",
       "      <th>katz_centrality</th>\n",
       "      <th>lineal_threshold</th>\n",
       "      <th>lineal_threshold_alternative</th>\n",
       "      <th>pagerank</th>\n",
       "      <th>degree</th>\n",
       "      <th>closs</th>\n",
       "      <th>betweenness</th>\n",
       "    </tr>\n",
       "  </thead>\n",
       "  <tbody>\n",
       "    <tr>\n",
       "      <th>katz_centrality</th>\n",
       "      <td>1.000000</td>\n",
       "      <td>-0.001800</td>\n",
       "      <td>-0.309507</td>\n",
       "      <td>0.289033</td>\n",
       "      <td>0.404786</td>\n",
       "      <td>-0.308525</td>\n",
       "      <td>0.166616</td>\n",
       "    </tr>\n",
       "    <tr>\n",
       "      <th>lineal_threshold</th>\n",
       "      <td>-0.001800</td>\n",
       "      <td>1.000000</td>\n",
       "      <td>-0.001208</td>\n",
       "      <td>-0.000631</td>\n",
       "      <td>-0.004101</td>\n",
       "      <td>-0.001162</td>\n",
       "      <td>0.001300</td>\n",
       "    </tr>\n",
       "    <tr>\n",
       "      <th>lineal_threshold_alternative</th>\n",
       "      <td>-0.309507</td>\n",
       "      <td>-0.001208</td>\n",
       "      <td>1.000000</td>\n",
       "      <td>-0.294447</td>\n",
       "      <td>0.379637</td>\n",
       "      <td>0.995726</td>\n",
       "      <td>0.518542</td>\n",
       "    </tr>\n",
       "    <tr>\n",
       "      <th>pagerank</th>\n",
       "      <td>0.289033</td>\n",
       "      <td>-0.000631</td>\n",
       "      <td>-0.294447</td>\n",
       "      <td>1.000000</td>\n",
       "      <td>0.133118</td>\n",
       "      <td>-0.293592</td>\n",
       "      <td>0.112294</td>\n",
       "    </tr>\n",
       "    <tr>\n",
       "      <th>degree</th>\n",
       "      <td>0.404786</td>\n",
       "      <td>-0.004101</td>\n",
       "      <td>0.379637</td>\n",
       "      <td>0.133118</td>\n",
       "      <td>1.000000</td>\n",
       "      <td>0.378708</td>\n",
       "      <td>0.406777</td>\n",
       "    </tr>\n",
       "    <tr>\n",
       "      <th>closs</th>\n",
       "      <td>-0.308525</td>\n",
       "      <td>-0.001162</td>\n",
       "      <td>0.995726</td>\n",
       "      <td>-0.293592</td>\n",
       "      <td>0.378708</td>\n",
       "      <td>1.000000</td>\n",
       "      <td>0.519155</td>\n",
       "    </tr>\n",
       "    <tr>\n",
       "      <th>betweenness</th>\n",
       "      <td>0.166616</td>\n",
       "      <td>0.001300</td>\n",
       "      <td>0.518542</td>\n",
       "      <td>0.112294</td>\n",
       "      <td>0.406777</td>\n",
       "      <td>0.519155</td>\n",
       "      <td>1.000000</td>\n",
       "    </tr>\n",
       "  </tbody>\n",
       "</table>\n",
       "</div>"
      ],
      "text/plain": [
       "                              katz_centrality  lineal_threshold  \\\n",
       "katz_centrality                      1.000000         -0.001800   \n",
       "lineal_threshold                    -0.001800          1.000000   \n",
       "lineal_threshold_alternative        -0.309507         -0.001208   \n",
       "pagerank                             0.289033         -0.000631   \n",
       "degree                               0.404786         -0.004101   \n",
       "closs                               -0.308525         -0.001162   \n",
       "betweenness                          0.166616          0.001300   \n",
       "\n",
       "                              lineal_threshold_alternative  pagerank  \\\n",
       "katz_centrality                                  -0.309507  0.289033   \n",
       "lineal_threshold                                 -0.001208 -0.000631   \n",
       "lineal_threshold_alternative                      1.000000 -0.294447   \n",
       "pagerank                                         -0.294447  1.000000   \n",
       "degree                                            0.379637  0.133118   \n",
       "closs                                             0.995726 -0.293592   \n",
       "betweenness                                       0.518542  0.112294   \n",
       "\n",
       "                                degree     closs  betweenness  \n",
       "katz_centrality               0.404786 -0.308525     0.166616  \n",
       "lineal_threshold             -0.004101 -0.001162     0.001300  \n",
       "lineal_threshold_alternative  0.379637  0.995726     0.518542  \n",
       "pagerank                      0.133118 -0.293592     0.112294  \n",
       "degree                        1.000000  0.378708     0.406777  \n",
       "closs                         0.378708  1.000000     0.519155  \n",
       "betweenness                   0.406777  0.519155     1.000000  "
      ]
     },
     "execution_count": 36,
     "metadata": {},
     "output_type": "execute_result"
    }
   ],
   "source": [
    "influence_model.corr(method='kendall')"
   ]
  }
 ],
 "metadata": {
  "kernelspec": {
   "display_name": "Python 3",
   "language": "python",
   "name": "python3"
  },
  "language_info": {
   "codemirror_mode": {
    "name": "ipython",
    "version": 3
   },
   "file_extension": ".py",
   "mimetype": "text/x-python",
   "name": "python",
   "nbconvert_exporter": "python",
   "pygments_lexer": "ipython3",
   "version": "3.4.3"
  }
 },
 "nbformat": 4,
 "nbformat_minor": 1
}
