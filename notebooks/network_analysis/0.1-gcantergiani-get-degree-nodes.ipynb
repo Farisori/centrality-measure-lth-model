{
 "cells": [
  {
   "cell_type": "code",
   "execution_count": 2,
   "metadata": {
    "collapsed": true
   },
   "outputs": [],
   "source": [
    "import networkx as nx\n",
    "import pandas as pd\n",
    "import numpy as np"
   ]
  },
  {
   "cell_type": "code",
   "execution_count": 20,
   "metadata": {
    "collapsed": true
   },
   "outputs": [],
   "source": [
    "FILE_NETWORK_RETWEET_WEIGHT = \"../data/raw/higgs-retweet_network.edgelist\""
   ]
  },
  {
   "cell_type": "code",
   "execution_count": 23,
   "metadata": {
    "collapsed": false
   },
   "outputs": [
    {
     "data": {
      "text/html": [
       "<div>\n",
       "<table border=\"1\" class=\"dataframe\">\n",
       "  <thead>\n",
       "    <tr style=\"text-align: right;\">\n",
       "      <th></th>\n",
       "      <th>source</th>\n",
       "      <th>target</th>\n",
       "      <th>weight</th>\n",
       "    </tr>\n",
       "  </thead>\n",
       "  <tbody>\n",
       "    <tr>\n",
       "      <th>0</th>\n",
       "      <td>298960</td>\n",
       "      <td>105232</td>\n",
       "      <td>1</td>\n",
       "    </tr>\n",
       "    <tr>\n",
       "      <th>1</th>\n",
       "      <td>95688</td>\n",
       "      <td>3393</td>\n",
       "      <td>1</td>\n",
       "    </tr>\n",
       "    <tr>\n",
       "      <th>2</th>\n",
       "      <td>353237</td>\n",
       "      <td>62217</td>\n",
       "      <td>1</td>\n",
       "    </tr>\n",
       "    <tr>\n",
       "      <th>3</th>\n",
       "      <td>4974</td>\n",
       "      <td>3571</td>\n",
       "      <td>1</td>\n",
       "    </tr>\n",
       "    <tr>\n",
       "      <th>4</th>\n",
       "      <td>241892</td>\n",
       "      <td>8</td>\n",
       "      <td>1</td>\n",
       "    </tr>\n",
       "  </tbody>\n",
       "</table>\n",
       "</div>"
      ],
      "text/plain": [
       "   source  target  weight\n",
       "0  298960  105232       1\n",
       "1   95688    3393       1\n",
       "2  353237   62217       1\n",
       "3    4974    3571       1\n",
       "4  241892       8       1"
      ]
     },
     "execution_count": 23,
     "metadata": {},
     "output_type": "execute_result"
    }
   ],
   "source": [
    "data = pd.read_csv(FILE_NETWORK_RETWEET_WEIGHT, sep=' ', names = ['source', 'target','weight'])\n",
    "data.head()"
   ]
  },
  {
   "cell_type": "code",
   "execution_count": 24,
   "metadata": {
    "collapsed": true
   },
   "outputs": [],
   "source": [
    "G = nx.DiGraph()\n",
    "\n",
    "for idx,row in data.iterrows():\n",
    "    G.add_edge(row['target'], row['source'], weight= row['weight'])"
   ]
  },
  {
   "cell_type": "code",
   "execution_count": 25,
   "metadata": {
    "collapsed": true
   },
   "outputs": [],
   "source": [
    "# Nodes from k-shel and k-core metrics\n",
    "\n",
    "nodes_to_query = [88, 677, 1276, 1988, 3547, 3998, 5137, 5226, 6940, \n",
    "                  11991, 12751, 13506, 13808, 13813, 15439, 16801, 19604, \n",
    "                  26153, 26398, 27483, 28951, 33833, 35376, 35729, 39885, 42170, \n",
    "                  42172, 42182, 44086, 49179, 50927, 53508, 56968, 59012, 59027, \n",
    "                  60686, 64911, 67382, 75798, 76165, 78701, 92274, 98204, 98762, \n",
    "                  103447, 103921, 110903, 116323, 137242, 137246, 137247, 137271, \n",
    "                  137321, 158955, 182906, 206362, 302797]"
   ]
  },
  {
   "cell_type": "code",
   "execution_count": 26,
   "metadata": {
    "collapsed": false
   },
   "outputs": [
    {
     "name": "stdout",
     "output_type": "stream",
     "text": [
      "Node: 88 | degree 14063 | in_degree 3 | out_degree 14060\n",
      "Node: 677 | degree 5621 | in_degree 8 | out_degree 5613\n",
      "Node: 1276 | degree 979 | in_degree 19 | out_degree 960\n",
      "Node: 1988 | degree 4337 | in_degree 2 | out_degree 4335\n",
      "Node: 3547 | degree 181 | in_degree 21 | out_degree 160\n",
      "Node: 3998 | degree 840 | in_degree 7 | out_degree 833\n",
      "Node: 5137 | degree 167 | in_degree 17 | out_degree 150\n",
      "Node: 5226 | degree 1663 | in_degree 5 | out_degree 1658\n",
      "Node: 6940 | degree 933 | in_degree 29 | out_degree 904\n",
      "Node: 11991 | degree 424 | in_degree 13 | out_degree 411\n",
      "Node: 12751 | degree 217 | in_degree 20 | out_degree 197\n",
      "Node: 13506 | degree 123 | in_degree 7 | out_degree 116\n",
      "Node: 13808 | degree 385 | in_degree 9 | out_degree 376\n",
      "Node: 13813 | degree 374 | in_degree 3 | out_degree 371\n",
      "Node: 15439 | degree 34 | in_degree 34 | out_degree 0\n",
      "Node: 16801 | degree 210 | in_degree 15 | out_degree 195\n",
      "Node: 19604 | degree 248 | in_degree 8 | out_degree 240\n",
      "Node: 26153 | degree 136 | in_degree 8 | out_degree 128\n",
      "Node: 26398 | degree 108 | in_degree 8 | out_degree 100\n",
      "Node: 27483 | degree 76 | in_degree 10 | out_degree 66\n",
      "Node: 28951 | degree 62 | in_degree 19 | out_degree 43\n",
      "Node: 33833 | degree 73 | in_degree 23 | out_degree 50\n",
      "Node: 35376 | degree 126 | in_degree 28 | out_degree 98\n",
      "Node: 35729 | degree 76 | in_degree 24 | out_degree 52\n",
      "Node: 39885 | degree 154 | in_degree 30 | out_degree 124\n",
      "Node: 42170 | degree 22 | in_degree 19 | out_degree 3\n",
      "Node: 42172 | degree 111 | in_degree 7 | out_degree 104\n",
      "Node: 42182 | degree 247 | in_degree 9 | out_degree 238\n",
      "Node: 44086 | degree 77 | in_degree 37 | out_degree 40\n",
      "Node: 49179 | degree 123 | in_degree 15 | out_degree 108\n",
      "Node: 50927 | degree 28 | in_degree 15 | out_degree 13\n",
      "Node: 53508 | degree 43 | in_degree 42 | out_degree 1\n",
      "Node: 56968 | degree 150 | in_degree 12 | out_degree 138\n",
      "Node: 59012 | degree 85 | in_degree 7 | out_degree 78\n",
      "Node: 59027 | degree 87 | in_degree 10 | out_degree 77\n",
      "Node: 60686 | degree 103 | in_degree 7 | out_degree 96\n",
      "Node: 64911 | degree 241 | in_degree 49 | out_degree 192\n",
      "Node: 67382 | degree 56 | in_degree 10 | out_degree 46\n",
      "Node: 75798 | degree 35 | in_degree 31 | out_degree 4\n",
      "Node: 76165 | degree 127 | in_degree 33 | out_degree 94\n",
      "Node: 78701 | degree 23 | in_degree 17 | out_degree 6\n",
      "Node: 92274 | degree 66 | in_degree 16 | out_degree 50\n",
      "Node: 98204 | degree 51 | in_degree 17 | out_degree 34\n",
      "Node: 98762 | degree 25 | in_degree 11 | out_degree 14\n",
      "Node: 103447 | degree 137 | in_degree 34 | out_degree 103\n",
      "Node: 103921 | degree 99 | in_degree 9 | out_degree 90\n",
      "Node: 110903 | degree 106 | in_degree 5 | out_degree 101\n",
      "Node: 116323 | degree 36 | in_degree 10 | out_degree 26\n",
      "Node: 137242 | degree 31 | in_degree 10 | out_degree 21\n",
      "Node: 137246 | degree 105 | in_degree 10 | out_degree 95\n",
      "Node: 137247 | degree 107 | in_degree 7 | out_degree 100\n",
      "Node: 137271 | degree 67 | in_degree 6 | out_degree 61\n",
      "Node: 137321 | degree 101 | in_degree 4 | out_degree 97\n",
      "Node: 158955 | degree 30 | in_degree 28 | out_degree 2\n",
      "Node: 182906 | degree 72 | in_degree 31 | out_degree 41\n",
      "Node: 206362 | degree 35 | in_degree 35 | out_degree 0\n",
      "Node: 302797 | degree 21 | in_degree 21 | out_degree 0\n"
     ]
    }
   ],
   "source": [
    "for node in nodes_to_query:\n",
    "    print('Node: {0} | degree {1} | in_degree {2} | out_degree {3}'.format(node, G.degree(node), G.in_degree(node), G.out_degree(node)))"
   ]
  },
  {
   "cell_type": "code",
   "execution_count": null,
   "metadata": {
    "collapsed": true
   },
   "outputs": [],
   "source": []
  }
 ],
 "metadata": {
  "kernelspec": {
   "display_name": "Python 3",
   "language": "python",
   "name": "python3"
  },
  "language_info": {
   "codemirror_mode": {
    "name": "ipython",
    "version": 3
   },
   "file_extension": ".py",
   "mimetype": "text/x-python",
   "name": "python",
   "nbconvert_exporter": "python",
   "pygments_lexer": "ipython3",
   "version": "3.4.3"
  }
 },
 "nbformat": 4,
 "nbformat_minor": 1
}
