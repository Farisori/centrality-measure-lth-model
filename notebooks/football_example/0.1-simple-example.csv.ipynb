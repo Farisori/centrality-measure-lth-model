{
 "cells": [
  {
   "cell_type": "code",
   "execution_count": 62,
   "metadata": {
    "collapsed": true
   },
   "outputs": [],
   "source": [
    "%matplotlib inline \n",
    "\n",
    "import networkx as nx\n",
    "import pandas as pd\n",
    "import numpy as np\n",
    "import matplotlib.pyplot as plt"
   ]
  },
  {
   "cell_type": "code",
   "execution_count": 29,
   "metadata": {
    "collapsed": false
   },
   "outputs": [
    {
     "data": {
      "text/html": [
       "<div>\n",
       "<table border=\"1\" class=\"dataframe\">\n",
       "  <thead>\n",
       "    <tr style=\"text-align: right;\">\n",
       "      <th></th>\n",
       "      <th>P</th>\n",
       "      <th>P1</th>\n",
       "      <th>P2</th>\n",
       "      <th>P3</th>\n",
       "      <th>P4</th>\n",
       "      <th>P5</th>\n",
       "      <th>P6</th>\n",
       "      <th>P7</th>\n",
       "      <th>P8</th>\n",
       "      <th>P9</th>\n",
       "      <th>P10</th>\n",
       "      <th>P11</th>\n",
       "    </tr>\n",
       "  </thead>\n",
       "  <tbody>\n",
       "    <tr>\n",
       "      <th>0</th>\n",
       "      <td>P1</td>\n",
       "      <td>0</td>\n",
       "      <td>1</td>\n",
       "      <td>1</td>\n",
       "      <td>1</td>\n",
       "      <td>0</td>\n",
       "      <td>0</td>\n",
       "      <td>0</td>\n",
       "      <td>0</td>\n",
       "      <td>0</td>\n",
       "      <td>1</td>\n",
       "      <td>0</td>\n",
       "    </tr>\n",
       "    <tr>\n",
       "      <th>1</th>\n",
       "      <td>P2</td>\n",
       "      <td>9</td>\n",
       "      <td>0</td>\n",
       "      <td>27</td>\n",
       "      <td>0</td>\n",
       "      <td>0</td>\n",
       "      <td>30</td>\n",
       "      <td>0</td>\n",
       "      <td>0</td>\n",
       "      <td>0</td>\n",
       "      <td>0</td>\n",
       "      <td>0</td>\n",
       "    </tr>\n",
       "    <tr>\n",
       "      <th>2</th>\n",
       "      <td>P3</td>\n",
       "      <td>8</td>\n",
       "      <td>15</td>\n",
       "      <td>0</td>\n",
       "      <td>0</td>\n",
       "      <td>12</td>\n",
       "      <td>18</td>\n",
       "      <td>0</td>\n",
       "      <td>16</td>\n",
       "      <td>0</td>\n",
       "      <td>0</td>\n",
       "      <td>0</td>\n",
       "    </tr>\n",
       "    <tr>\n",
       "      <th>3</th>\n",
       "      <td>P4</td>\n",
       "      <td>3</td>\n",
       "      <td>8</td>\n",
       "      <td>0</td>\n",
       "      <td>0</td>\n",
       "      <td>0</td>\n",
       "      <td>8</td>\n",
       "      <td>5</td>\n",
       "      <td>3</td>\n",
       "      <td>0</td>\n",
       "      <td>0</td>\n",
       "      <td>0</td>\n",
       "    </tr>\n",
       "    <tr>\n",
       "      <th>4</th>\n",
       "      <td>P5</td>\n",
       "      <td>2</td>\n",
       "      <td>0</td>\n",
       "      <td>8</td>\n",
       "      <td>0</td>\n",
       "      <td>0</td>\n",
       "      <td>21</td>\n",
       "      <td>0</td>\n",
       "      <td>10</td>\n",
       "      <td>0</td>\n",
       "      <td>7</td>\n",
       "      <td>0</td>\n",
       "    </tr>\n",
       "    <tr>\n",
       "      <th>5</th>\n",
       "      <td>P6</td>\n",
       "      <td>0</td>\n",
       "      <td>0</td>\n",
       "      <td>4</td>\n",
       "      <td>8</td>\n",
       "      <td>4</td>\n",
       "      <td>0</td>\n",
       "      <td>0</td>\n",
       "      <td>12</td>\n",
       "      <td>8</td>\n",
       "      <td>14</td>\n",
       "      <td>9</td>\n",
       "    </tr>\n",
       "    <tr>\n",
       "      <th>6</th>\n",
       "      <td>P7</td>\n",
       "      <td>0</td>\n",
       "      <td>4</td>\n",
       "      <td>0</td>\n",
       "      <td>3</td>\n",
       "      <td>0</td>\n",
       "      <td>8</td>\n",
       "      <td>0</td>\n",
       "      <td>0</td>\n",
       "      <td>10</td>\n",
       "      <td>11</td>\n",
       "      <td>9</td>\n",
       "    </tr>\n",
       "    <tr>\n",
       "      <th>7</th>\n",
       "      <td>P8</td>\n",
       "      <td>0</td>\n",
       "      <td>0</td>\n",
       "      <td>4</td>\n",
       "      <td>0</td>\n",
       "      <td>3</td>\n",
       "      <td>5</td>\n",
       "      <td>0</td>\n",
       "      <td>0</td>\n",
       "      <td>12</td>\n",
       "      <td>14</td>\n",
       "      <td>9</td>\n",
       "    </tr>\n",
       "    <tr>\n",
       "      <th>8</th>\n",
       "      <td>P9</td>\n",
       "      <td>0</td>\n",
       "      <td>0</td>\n",
       "      <td>0</td>\n",
       "      <td>0</td>\n",
       "      <td>0</td>\n",
       "      <td>1</td>\n",
       "      <td>2</td>\n",
       "      <td>2</td>\n",
       "      <td>0</td>\n",
       "      <td>8</td>\n",
       "      <td>5</td>\n",
       "    </tr>\n",
       "    <tr>\n",
       "      <th>9</th>\n",
       "      <td>P10</td>\n",
       "      <td>0</td>\n",
       "      <td>3</td>\n",
       "      <td>0</td>\n",
       "      <td>0</td>\n",
       "      <td>0</td>\n",
       "      <td>6</td>\n",
       "      <td>0</td>\n",
       "      <td>7</td>\n",
       "      <td>11</td>\n",
       "      <td>0</td>\n",
       "      <td>11</td>\n",
       "    </tr>\n",
       "    <tr>\n",
       "      <th>10</th>\n",
       "      <td>P11</td>\n",
       "      <td>0</td>\n",
       "      <td>0</td>\n",
       "      <td>2</td>\n",
       "      <td>0</td>\n",
       "      <td>4</td>\n",
       "      <td>0</td>\n",
       "      <td>0</td>\n",
       "      <td>7</td>\n",
       "      <td>7</td>\n",
       "      <td>13</td>\n",
       "      <td>0</td>\n",
       "    </tr>\n",
       "  </tbody>\n",
       "</table>\n",
       "</div>"
      ],
      "text/plain": [
       "      P  P1  P2  P3  P4  P5  P6  P7  P8  P9  P10  P11\n",
       "0    P1   0   1   1   1   0   0   0   0   0    1    0\n",
       "1    P2   9   0  27   0   0  30   0   0   0    0    0\n",
       "2    P3   8  15   0   0  12  18   0  16   0    0    0\n",
       "3    P4   3   8   0   0   0   8   5   3   0    0    0\n",
       "4    P5   2   0   8   0   0  21   0  10   0    7    0\n",
       "5    P6   0   0   4   8   4   0   0  12   8   14    9\n",
       "6    P7   0   4   0   3   0   8   0   0  10   11    9\n",
       "7    P8   0   0   4   0   3   5   0   0  12   14    9\n",
       "8    P9   0   0   0   0   0   1   2   2   0    8    5\n",
       "9   P10   0   3   0   0   0   6   0   7  11    0   11\n",
       "10  P11   0   0   2   0   4   0   0   7   7   13    0"
      ]
     },
     "execution_count": 29,
     "metadata": {},
     "output_type": "execute_result"
    }
   ],
   "source": [
    "df = pd.read_csv('data/match.csv')\n",
    "df"
   ]
  },
  {
   "cell_type": "code",
   "execution_count": 55,
   "metadata": {
    "collapsed": false
   },
   "outputs": [
    {
     "data": {
      "text/plain": [
       "['P1', 'P2', 'P3', 'P4', 'P5', 'P6', 'P7', 'P8', 'P9', 'P10', 'P11']"
      ]
     },
     "execution_count": 55,
     "metadata": {},
     "output_type": "execute_result"
    }
   ],
   "source": [
    "players = list(df.columns[1:])\n",
    "players"
   ]
  },
  {
   "cell_type": "code",
   "execution_count": 59,
   "metadata": {
    "collapsed": true
   },
   "outputs": [],
   "source": [
    "G = nx.DiGraph()"
   ]
  },
  {
   "cell_type": "code",
   "execution_count": 60,
   "metadata": {
    "collapsed": false
   },
   "outputs": [],
   "source": [
    "for index, row in df.iterrows():\n",
    "    for player in players:\n",
    "        G.add_edge(row['P'], player , weight=row[player])"
   ]
  },
  {
   "cell_type": "code",
   "execution_count": 63,
   "metadata": {
    "collapsed": false
   },
   "outputs": [
    {
     "data": {
      "image/png": "[encoded data removed]",
      "text/plain": [
       "<matplotlib.figure.Figure at 0x7f6497236748>"
      ]
     },
     "metadata": {},
     "output_type": "display_data"
    }
   ],
   "source": [
    "nx.draw(G, with_labels = True, node_size=700)\n",
    "plt.show()"
   ]
  },
  {
   "cell_type": "code",
   "execution_count": 67,
   "metadata": {
    "collapsed": false
   },
   "outputs": [
    {
     "data": {
      "text/plain": [
       "\"{'P6': 0.12925259730222302, 'P1': 0.03290710476198653, 'P9': 0.1332070668203044, 'P11': 0.1346238194805646, 'P2': 0.05840818705664955, 'P5': 0.05263662124853467, 'P8': 0.12934515119237858, 'P3': 0.07213712385161841, 'P4': 0.037345051494010545, 'P10': 0.18804188001650962, 'P7': 0.03209539677522015}\""
      ]
     },
     "execution_count": 67,
     "metadata": {},
     "output_type": "execute_result"
    }
   ],
   "source": [
    "pr = nx.pagerank(G)\n",
    "repr(pr)"
   ]
  },
  {
   "cell_type": "code",
   "execution_count": 77,
   "metadata": {
    "collapsed": false
   },
   "outputs": [
    {
     "data": {
      "text/plain": [
       "\"{'P6': -0.4399653733686969, 'P1': -0.09344496455462276, 'P9': 0.5001824815371824, 'P11': 0.4448285702474719, 'P2': -0.039813578793092795, 'P5': -0.16686940766948888, 'P8': -0.25008321936097394, 'P3': -0.24144551317612933, 'P4': -0.09009115588228901, 'P10': 0.35817630502589914, 'P7': 0.2509358135649407}\""
      ]
     },
     "execution_count": 77,
     "metadata": {},
     "output_type": "execute_result"
    }
   ],
   "source": [
    "kz = nx.katz_centrality_numpy(G)\n",
    "repr(kz)"
   ]
  },
  {
   "cell_type": "code",
   "execution_count": 76,
   "metadata": {
    "collapsed": true
   },
   "outputs": [],
   "source": [
    "# Hand-made LTC values\n",
    "\n",
    "LTC_P1=[1,2,3,4,5,6,7,8,9,10,11]\n",
    "LTC_P2=[1,2,3,4,6,7,10]\n",
    "LTC_P3=[1,2,3,4,5,6,7,8,9,10,11]\n",
    "LTC_P4=[1,2,3,4,5,6,7,8]\n",
    "LTC_P5=[1,2,3,4,5,6,7,8,9,10,11]\n",
    "LTC_P6=[1,2,3,4,5,6,7,8,9,10,11]\n",
    "LTC_P7=[2,4,6,7,9,10,11]\n",
    "LTC_P8=[1,2,3,4,5,6,7,8,9,10,11]\n",
    "LTC_P9=[4,6,7,8,9,10,11]\n",
    "LTC_P10=[1,2,3,4,5,6,7,8,9,10,11]\n",
    "LTC_P11=[1,2,3,4,5,6,7,8,9,10,11]\n",
    "\n",
    "ltc = {'P1':11,'P2':7,'P3':11,'P4':8,'P5':11,'P6':11,'P7':8,'P8':11,'P9':7,'P10':11,'P11':11}"
   ]
  },
  {
   "cell_type": "code",
   "execution_count": 109,
   "metadata": {
    "collapsed": false
   },
   "outputs": [
    {
     "name": "stdout",
     "output_type": "stream",
     "text": [
      "[['P1', 0.03290710476198653, -0.09344496455462276, 1.0], ['P2', 0.05840818705664955, -0.039813578793092795, 0.6363636363636364], ['P3', 0.07213712385161841, -0.24144551317612933, 1.0], ['P4', 0.037345051494010545, -0.09009115588228901, 0.7272727272727273], ['P5', 0.05263662124853467, -0.16686940766948888, 1.0], ['P6', 0.12925259730222302, -0.4399653733686969, 1.0], ['P7', 0.03209539677522015, 0.2509358135649407, 0.7272727272727273], ['P8', 0.12934515119237858, -0.25008321936097394, 1.0], ['P9', 0.1332070668203044, 0.5001824815371824, 0.6363636363636364], ['P10', 0.18804188001650962, 0.35817630502589914, 1.0], ['P11', 0.1346238194805646, 0.4448285702474719, 1.0]]\n"
     ]
    }
   ],
   "source": [
    "to_dataframe = []\n",
    "for player in players:\n",
    "    list_attributes = []\n",
    "    list_attributes.append(player)\n",
    "    list_attributes.append(pr[player])\n",
    "    list_attributes.append(kz[player])\n",
    "    list_attributes.append(float(ltc[player])/len(players))\n",
    "    to_dataframe.append(list_attributes)\n",
    "    \n",
    "print(to_dataframe)"
   ]
  },
  {
   "cell_type": "code",
   "execution_count": 111,
   "metadata": {
    "collapsed": false
   },
   "outputs": [
    {
     "data": {
      "text/html": [
       "<div>\n",
       "<table border=\"1\" class=\"dataframe\">\n",
       "  <thead>\n",
       "    <tr style=\"text-align: right;\">\n",
       "      <th></th>\n",
       "      <th>node</th>\n",
       "      <th>pr</th>\n",
       "      <th>kz</th>\n",
       "      <th>ltc</th>\n",
       "    </tr>\n",
       "  </thead>\n",
       "  <tbody>\n",
       "    <tr>\n",
       "      <th>0</th>\n",
       "      <td>P1</td>\n",
       "      <td>0.032907</td>\n",
       "      <td>-0.093445</td>\n",
       "      <td>1.000000</td>\n",
       "    </tr>\n",
       "    <tr>\n",
       "      <th>1</th>\n",
       "      <td>P2</td>\n",
       "      <td>0.058408</td>\n",
       "      <td>-0.039814</td>\n",
       "      <td>0.636364</td>\n",
       "    </tr>\n",
       "    <tr>\n",
       "      <th>2</th>\n",
       "      <td>P3</td>\n",
       "      <td>0.072137</td>\n",
       "      <td>-0.241446</td>\n",
       "      <td>1.000000</td>\n",
       "    </tr>\n",
       "    <tr>\n",
       "      <th>3</th>\n",
       "      <td>P4</td>\n",
       "      <td>0.037345</td>\n",
       "      <td>-0.090091</td>\n",
       "      <td>0.727273</td>\n",
       "    </tr>\n",
       "    <tr>\n",
       "      <th>4</th>\n",
       "      <td>P5</td>\n",
       "      <td>0.052637</td>\n",
       "      <td>-0.166869</td>\n",
       "      <td>1.000000</td>\n",
       "    </tr>\n",
       "    <tr>\n",
       "      <th>5</th>\n",
       "      <td>P6</td>\n",
       "      <td>0.129253</td>\n",
       "      <td>-0.439965</td>\n",
       "      <td>1.000000</td>\n",
       "    </tr>\n",
       "    <tr>\n",
       "      <th>6</th>\n",
       "      <td>P7</td>\n",
       "      <td>0.032095</td>\n",
       "      <td>0.250936</td>\n",
       "      <td>0.727273</td>\n",
       "    </tr>\n",
       "    <tr>\n",
       "      <th>7</th>\n",
       "      <td>P8</td>\n",
       "      <td>0.129345</td>\n",
       "      <td>-0.250083</td>\n",
       "      <td>1.000000</td>\n",
       "    </tr>\n",
       "    <tr>\n",
       "      <th>8</th>\n",
       "      <td>P9</td>\n",
       "      <td>0.133207</td>\n",
       "      <td>0.500182</td>\n",
       "      <td>0.636364</td>\n",
       "    </tr>\n",
       "    <tr>\n",
       "      <th>9</th>\n",
       "      <td>P10</td>\n",
       "      <td>0.188042</td>\n",
       "      <td>0.358176</td>\n",
       "      <td>1.000000</td>\n",
       "    </tr>\n",
       "    <tr>\n",
       "      <th>10</th>\n",
       "      <td>P11</td>\n",
       "      <td>0.134624</td>\n",
       "      <td>0.444829</td>\n",
       "      <td>1.000000</td>\n",
       "    </tr>\n",
       "  </tbody>\n",
       "</table>\n",
       "</div>"
      ],
      "text/plain": [
       "   node        pr        kz       ltc\n",
       "0    P1  0.032907 -0.093445  1.000000\n",
       "1    P2  0.058408 -0.039814  0.636364\n",
       "2    P3  0.072137 -0.241446  1.000000\n",
       "3    P4  0.037345 -0.090091  0.727273\n",
       "4    P5  0.052637 -0.166869  1.000000\n",
       "5    P6  0.129253 -0.439965  1.000000\n",
       "6    P7  0.032095  0.250936  0.727273\n",
       "7    P8  0.129345 -0.250083  1.000000\n",
       "8    P9  0.133207  0.500182  0.636364\n",
       "9   P10  0.188042  0.358176  1.000000\n",
       "10  P11  0.134624  0.444829  1.000000"
      ]
     },
     "execution_count": 111,
     "metadata": {},
     "output_type": "execute_result"
    }
   ],
   "source": [
    "df_centrality = pd.DataFrame(to_dataframe, columns=['node','pr','kz','ltc'])\n",
    "df_centrality"
   ]
  },
  {
   "cell_type": "code",
   "execution_count": 112,
   "metadata": {
    "collapsed": false
   },
   "outputs": [
    {
     "data": {
      "text/html": [
       "<div>\n",
       "<table border=\"1\" class=\"dataframe\">\n",
       "  <thead>\n",
       "    <tr style=\"text-align: right;\">\n",
       "      <th></th>\n",
       "      <th>pr</th>\n",
       "      <th>kz</th>\n",
       "      <th>ltc</th>\n",
       "    </tr>\n",
       "  </thead>\n",
       "  <tbody>\n",
       "    <tr>\n",
       "      <th>pr</th>\n",
       "      <td>1.00000</td>\n",
       "      <td>0.335290</td>\n",
       "      <td>0.310300</td>\n",
       "    </tr>\n",
       "    <tr>\n",
       "      <th>kz</th>\n",
       "      <td>0.33529</td>\n",
       "      <td>1.000000</td>\n",
       "      <td>-0.358408</td>\n",
       "    </tr>\n",
       "    <tr>\n",
       "      <th>ltc</th>\n",
       "      <td>0.31030</td>\n",
       "      <td>-0.358408</td>\n",
       "      <td>1.000000</td>\n",
       "    </tr>\n",
       "  </tbody>\n",
       "</table>\n",
       "</div>"
      ],
      "text/plain": [
       "          pr        kz       ltc\n",
       "pr   1.00000  0.335290  0.310300\n",
       "kz   0.33529  1.000000 -0.358408\n",
       "ltc  0.31030 -0.358408  1.000000"
      ]
     },
     "execution_count": 112,
     "metadata": {},
     "output_type": "execute_result"
    }
   ],
   "source": [
    "df_centrality.corr()"
   ]
  },
  {
   "cell_type": "code",
   "execution_count": 114,
   "metadata": {
    "collapsed": false
   },
   "outputs": [
    {
     "data": {
      "text/html": [
       "<div>\n",
       "<table border=\"1\" class=\"dataframe\">\n",
       "  <thead>\n",
       "    <tr style=\"text-align: right;\">\n",
       "      <th></th>\n",
       "      <th>pr</th>\n",
       "      <th>kz</th>\n",
       "      <th>ltc</th>\n",
       "    </tr>\n",
       "  </thead>\n",
       "  <tbody>\n",
       "    <tr>\n",
       "      <th>pr</th>\n",
       "      <td>1.000000</td>\n",
       "      <td>0.272727</td>\n",
       "      <td>0.243663</td>\n",
       "    </tr>\n",
       "    <tr>\n",
       "      <th>kz</th>\n",
       "      <td>0.272727</td>\n",
       "      <td>1.000000</td>\n",
       "      <td>-0.508513</td>\n",
       "    </tr>\n",
       "    <tr>\n",
       "      <th>ltc</th>\n",
       "      <td>0.243663</td>\n",
       "      <td>-0.508513</td>\n",
       "      <td>1.000000</td>\n",
       "    </tr>\n",
       "  </tbody>\n",
       "</table>\n",
       "</div>"
      ],
      "text/plain": [
       "           pr        kz       ltc\n",
       "pr   1.000000  0.272727  0.243663\n",
       "kz   0.272727  1.000000 -0.508513\n",
       "ltc  0.243663 -0.508513  1.000000"
      ]
     },
     "execution_count": 114,
     "metadata": {},
     "output_type": "execute_result"
    }
   ],
   "source": [
    "df_centrality.corr(method='spearman')"
   ]
  },
  {
   "cell_type": "code",
   "execution_count": 115,
   "metadata": {
    "collapsed": false
   },
   "outputs": [
    {
     "data": {
      "text/html": [
       "<div>\n",
       "<table border=\"1\" class=\"dataframe\">\n",
       "  <thead>\n",
       "    <tr style=\"text-align: right;\">\n",
       "      <th></th>\n",
       "      <th>pr</th>\n",
       "      <th>kz</th>\n",
       "      <th>ltc</th>\n",
       "    </tr>\n",
       "  </thead>\n",
       "  <tbody>\n",
       "    <tr>\n",
       "      <th>pr</th>\n",
       "      <td>1.000000</td>\n",
       "      <td>0.054545</td>\n",
       "      <td>0.190693</td>\n",
       "    </tr>\n",
       "    <tr>\n",
       "      <th>kz</th>\n",
       "      <td>0.054545</td>\n",
       "      <td>1.000000</td>\n",
       "      <td>-0.429058</td>\n",
       "    </tr>\n",
       "    <tr>\n",
       "      <th>ltc</th>\n",
       "      <td>0.190693</td>\n",
       "      <td>-0.429058</td>\n",
       "      <td>1.000000</td>\n",
       "    </tr>\n",
       "  </tbody>\n",
       "</table>\n",
       "</div>"
      ],
      "text/plain": [
       "           pr        kz       ltc\n",
       "pr   1.000000  0.054545  0.190693\n",
       "kz   0.054545  1.000000 -0.429058\n",
       "ltc  0.190693 -0.429058  1.000000"
      ]
     },
     "execution_count": 115,
     "metadata": {},
     "output_type": "execute_result"
    }
   ],
   "source": [
    "df_centrality.corr(method='kendall')"
   ]
  }
 ],
 "metadata": {
  "kernelspec": {
   "display_name": "Python 3",
   "language": "python",
   "name": "python3"
  },
  "language_info": {
   "codemirror_mode": {
    "name": "ipython",
    "version": 3
   },
   "file_extension": ".py",
   "mimetype": "text/x-python",
   "name": "python",
   "nbconvert_exporter": "python",
   "pygments_lexer": "ipython3",
   "version": "3.4.3"
  }
 },
 "nbformat": 4,
 "nbformat_minor": 1
}
