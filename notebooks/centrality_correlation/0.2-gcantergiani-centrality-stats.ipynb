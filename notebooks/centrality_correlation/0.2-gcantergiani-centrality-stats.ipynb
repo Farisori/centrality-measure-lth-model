{
 "cells": [
  {
   "cell_type": "markdown",
   "metadata": {},
   "source": [
    "# Centrality stats"
   ]
  },
  {
   "cell_type": "code",
   "execution_count": 1,
   "metadata": {
    "collapsed": true
   },
   "outputs": [],
   "source": [
    "import pandas as pd\n",
    "import csv"
   ]
  },
  {
   "cell_type": "code",
   "execution_count": 2,
   "metadata": {
    "collapsed": false
   },
   "outputs": [],
   "source": [
    "#Retweet Network\n",
    "path = '../../data/processed'\n",
    "\n",
    "ktz = pd.read_csv(path + '/katz_centrality_1e1.csv')\n",
    "pgr = pd.read_csv(path + '/page_rank.csv')\n",
    "deg = pd.read_csv(path + '/degree_centrality.csv')\n",
    "clos = pd.read_csv(path +'/closseness_centrality.csv')\n",
    "bet = pd.read_csv(path +'/betweenness_centrality.csv')"
   ]
  },
  {
   "cell_type": "code",
   "execution_count": 3,
   "metadata": {
    "collapsed": false
   },
   "outputs": [],
   "source": [
    "ltc_dict = {}\n",
    "with open(path + '/lt_centrality.csv', 'r') as csvfile:\n",
    "    lineal_threshold = csv.reader(csvfile, delimiter=',')\n",
    "    for row in lineal_threshold:\n",
    "        k, v = row\n",
    "        ltc_dict[k] = v"
   ]
  },
  {
   "cell_type": "code",
   "execution_count": 4,
   "metadata": {
    "collapsed": false
   },
   "outputs": [
    {
     "name": "stderr",
     "output_type": "stream",
     "text": [
      "/usr/local/lib/python3.4/dist-packages/ipykernel/__main__.py:2: FutureWarning: convert_objects is deprecated.  Use the data-type specific converters pd.to_datetime, pd.to_timedelta and pd.to_numeric.\n",
      "  from ipykernel import kernelapp as app\n"
     ]
    },
    {
     "data": {
      "text/html": [
       "<div>\n",
       "<table border=\"1\" class=\"dataframe\">\n",
       "  <thead>\n",
       "    <tr style=\"text-align: right;\">\n",
       "      <th></th>\n",
       "      <th>node</th>\n",
       "      <th>lineal_threshold</th>\n",
       "    </tr>\n",
       "  </thead>\n",
       "  <tbody>\n",
       "    <tr>\n",
       "      <th>0</th>\n",
       "      <td>2</td>\n",
       "      <td>27</td>\n",
       "    </tr>\n",
       "    <tr>\n",
       "      <th>1</th>\n",
       "      <td>3</td>\n",
       "      <td>61</td>\n",
       "    </tr>\n",
       "    <tr>\n",
       "      <th>2</th>\n",
       "      <td>4</td>\n",
       "      <td>14320</td>\n",
       "    </tr>\n",
       "    <tr>\n",
       "      <th>3</th>\n",
       "      <td>5</td>\n",
       "      <td>26</td>\n",
       "    </tr>\n",
       "    <tr>\n",
       "      <th>4</th>\n",
       "      <td>6</td>\n",
       "      <td>85</td>\n",
       "    </tr>\n",
       "  </tbody>\n",
       "</table>\n",
       "</div>"
      ],
      "text/plain": [
       "   node lineal_threshold\n",
       "0     2               27\n",
       "1     3               61\n",
       "2     4            14320\n",
       "3     5               26\n",
       "4     6               85"
      ]
     },
     "execution_count": 4,
     "metadata": {},
     "output_type": "execute_result"
    }
   ],
   "source": [
    "ltc = pd.DataFrame([[key,value] for key,value in ltc_dict.items()],columns=[\"node\",\"lineal_threshold\"])\n",
    "ltc['node'] = ltc['node'].convert_objects(convert_numeric=True)\n",
    "ltc.sort_values('node', inplace = True)\n",
    "ltc.reset_index(drop=True, inplace = True)\n",
    "ltc.head()"
   ]
  },
  {
   "cell_type": "code",
   "execution_count": 5,
   "metadata": {
    "collapsed": false
   },
   "outputs": [],
   "source": [
    "del ltc['node']\n",
    "del pgr['node']\n",
    "del deg['node']\n",
    "del clos['node']\n",
    "del bet['node']"
   ]
  },
  {
   "cell_type": "code",
   "execution_count": 6,
   "metadata": {
    "collapsed": false
   },
   "outputs": [
    {
     "name": "stderr",
     "output_type": "stream",
     "text": [
      "/usr/local/lib/python3.4/dist-packages/ipykernel/__main__.py:2: FutureWarning: convert_objects is deprecated.  Use the data-type specific converters pd.to_datetime, pd.to_timedelta and pd.to_numeric.\n",
      "  from ipykernel import kernelapp as app\n"
     ]
    },
    {
     "data": {
      "text/html": [
       "<div>\n",
       "<table border=\"1\" class=\"dataframe\">\n",
       "  <thead>\n",
       "    <tr style=\"text-align: right;\">\n",
       "      <th></th>\n",
       "      <th>node</th>\n",
       "      <th>katz_centrality</th>\n",
       "      <th>lineal_threshold</th>\n",
       "      <th>pagerank</th>\n",
       "      <th>degree</th>\n",
       "      <th>closs</th>\n",
       "      <th>betweenness</th>\n",
       "    </tr>\n",
       "  </thead>\n",
       "  <tbody>\n",
       "    <tr>\n",
       "      <th>0</th>\n",
       "      <td>2</td>\n",
       "      <td>0.001769</td>\n",
       "      <td>27</td>\n",
       "      <td>0.000003</td>\n",
       "      <td>0.000004</td>\n",
       "      <td>0.000000</td>\n",
       "      <td>0.000000</td>\n",
       "    </tr>\n",
       "    <tr>\n",
       "      <th>1</th>\n",
       "      <td>3</td>\n",
       "      <td>0.001769</td>\n",
       "      <td>61</td>\n",
       "      <td>0.000003</td>\n",
       "      <td>0.000004</td>\n",
       "      <td>0.000000</td>\n",
       "      <td>0.000000</td>\n",
       "    </tr>\n",
       "    <tr>\n",
       "      <th>2</th>\n",
       "      <td>4</td>\n",
       "      <td>0.003088</td>\n",
       "      <td>14320</td>\n",
       "      <td>0.000004</td>\n",
       "      <td>0.000320</td>\n",
       "      <td>0.000329</td>\n",
       "      <td>0.000002</td>\n",
       "    </tr>\n",
       "    <tr>\n",
       "      <th>3</th>\n",
       "      <td>5</td>\n",
       "      <td>0.001608</td>\n",
       "      <td>26</td>\n",
       "      <td>0.000003</td>\n",
       "      <td>0.000094</td>\n",
       "      <td>0.000096</td>\n",
       "      <td>0.000000</td>\n",
       "    </tr>\n",
       "    <tr>\n",
       "      <th>4</th>\n",
       "      <td>6</td>\n",
       "      <td>0.001608</td>\n",
       "      <td>85</td>\n",
       "      <td>0.000003</td>\n",
       "      <td>0.000324</td>\n",
       "      <td>0.000324</td>\n",
       "      <td>0.000000</td>\n",
       "    </tr>\n",
       "  </tbody>\n",
       "</table>\n",
       "</div>"
      ],
      "text/plain": [
       "   node  katz_centrality  lineal_threshold  pagerank    degree     closs  \\\n",
       "0     2         0.001769                27  0.000003  0.000004  0.000000   \n",
       "1     3         0.001769                61  0.000003  0.000004  0.000000   \n",
       "2     4         0.003088             14320  0.000004  0.000320  0.000329   \n",
       "3     5         0.001608                26  0.000003  0.000094  0.000096   \n",
       "4     6         0.001608                85  0.000003  0.000324  0.000324   \n",
       "\n",
       "   betweenness  \n",
       "0     0.000000  \n",
       "1     0.000000  \n",
       "2     0.000002  \n",
       "3     0.000000  \n",
       "4     0.000000  "
      ]
     },
     "execution_count": 6,
     "metadata": {},
     "output_type": "execute_result"
    }
   ],
   "source": [
    "influence_model = pd.concat([ktz,ltc, pgr, deg, clos, bet], axis=1)\n",
    "influence_model['lineal_threshold'] = influence_model['lineal_threshold'].convert_objects(convert_numeric=True)\n",
    "influence_model.head()"
   ]
  },
  {
   "cell_type": "markdown",
   "metadata": {},
   "source": [
    "## Standard deviation (raw)"
   ]
  },
  {
   "cell_type": "code",
   "execution_count": 7,
   "metadata": {
    "collapsed": false
   },
   "outputs": [
    {
     "data": {
      "text/plain": [
       "katz_centrality        0.000572\n",
       "lineal_threshold    2342.605729\n",
       "pagerank               0.000001\n",
       "degree                 0.000152\n",
       "closs                  0.003662\n",
       "betweenness            0.000003\n",
       "dtype: float64"
      ]
     },
     "execution_count": 7,
     "metadata": {},
     "output_type": "execute_result"
    }
   ],
   "source": [
    "del influence_model['node']\n",
    "influence_model.std()"
   ]
  },
  {
   "cell_type": "code",
   "execution_count": 8,
   "metadata": {
    "collapsed": false
   },
   "outputs": [
    {
     "name": "stdout",
     "output_type": "stream",
     "text": [
      "[katz_centrality].unique: 774\n",
      "[lineal_threshold].unique: 7000\n",
      "[pagerank].unique: 33956\n",
      "[degree].unique: 375\n",
      "[closs].unique: 4331\n",
      "[betweenness].unique: 5015\n"
     ]
    }
   ],
   "source": [
    "print('[katz_centrality].unique: {}'.format(len(influence_model['katz_centrality'].unique())))\n",
    "print('[lineal_threshold].unique: {}'.format(len(influence_model['lineal_threshold'].unique())))\n",
    "print('[pagerank].unique: {}'.format(len(influence_model['pagerank'].unique())))\n",
    "print('[degree].unique: {}'.format(len(influence_model['degree'].unique())))\n",
    "print('[closs].unique: {}'.format(len(influence_model['closs'].unique())))\n",
    "print('[betweenness].unique: {}'.format(len(influence_model['betweenness'].unique())))"
   ]
  },
  {
   "cell_type": "markdown",
   "metadata": {
    "collapsed": false
   },
   "source": [
    "## Normalized (max-score)"
   ]
  },
  {
   "cell_type": "code",
   "execution_count": 9,
   "metadata": {
    "collapsed": false
   },
   "outputs": [],
   "source": [
    "# Normalize lineal_threshold\n",
    "influence_model['lineal_threshold'] = influence_model['lineal_threshold'].astype(float)\n",
    "influence_model['lineal_threshold'] = (influence_model['lineal_threshold'] / 53015)"
   ]
  },
  {
   "cell_type": "code",
   "execution_count": 10,
   "metadata": {
    "collapsed": false
   },
   "outputs": [
    {
     "data": {
      "text/plain": [
       "katz_centrality     0.000572\n",
       "lineal_threshold    0.044188\n",
       "pagerank            0.000001\n",
       "degree              0.000152\n",
       "closs               0.003662\n",
       "betweenness         0.000003\n",
       "dtype: float64"
      ]
     },
     "execution_count": 10,
     "metadata": {},
     "output_type": "execute_result"
    }
   ],
   "source": [
    "influence_model.std()"
   ]
  },
  {
   "cell_type": "code",
   "execution_count": 11,
   "metadata": {
    "collapsed": false
   },
   "outputs": [
    {
     "name": "stdout",
     "output_type": "stream",
     "text": [
      "[katz_centrality].unique: 774\n",
      "[lineal_threshold].unique: 7000\n",
      "[pagerank].unique: 33956\n",
      "[degree].unique: 375\n",
      "[closs].unique: 4331\n",
      "[betweenness].unique: 5015\n"
     ]
    }
   ],
   "source": [
    "print('[katz_centrality].unique: {}'.format(len(influence_model['katz_centrality'].unique())))\n",
    "print('[lineal_threshold].unique: {}'.format(len(influence_model['lineal_threshold'].unique())))\n",
    "print('[pagerank].unique: {}'.format(len(influence_model['pagerank'].unique())))\n",
    "print('[degree].unique: {}'.format(len(influence_model['degree'].unique())))\n",
    "print('[closs].unique: {}'.format(len(influence_model['closs'].unique())))\n",
    "print('[betweenness].unique: {}'.format(len(influence_model['betweenness'].unique())))"
   ]
  },
  {
   "cell_type": "markdown",
   "metadata": {},
   "source": [
    "## Normalized (nodes)\n",
    " We need to reload the values"
   ]
  },
  {
   "cell_type": "code",
   "execution_count": 21,
   "metadata": {
    "collapsed": false
   },
   "outputs": [
    {
     "name": "stderr",
     "output_type": "stream",
     "text": [
      "/usr/local/lib/python3.4/dist-packages/ipykernel/__main__.py:2: FutureWarning: convert_objects is deprecated.  Use the data-type specific converters pd.to_datetime, pd.to_timedelta and pd.to_numeric.\n",
      "  from ipykernel import kernelapp as app\n"
     ]
    },
    {
     "data": {
      "text/html": [
       "<div>\n",
       "<table border=\"1\" class=\"dataframe\">\n",
       "  <thead>\n",
       "    <tr style=\"text-align: right;\">\n",
       "      <th></th>\n",
       "      <th>node</th>\n",
       "      <th>lineal_threshold</th>\n",
       "    </tr>\n",
       "  </thead>\n",
       "  <tbody>\n",
       "    <tr>\n",
       "      <th>0</th>\n",
       "      <td>2</td>\n",
       "      <td>27</td>\n",
       "    </tr>\n",
       "    <tr>\n",
       "      <th>1</th>\n",
       "      <td>3</td>\n",
       "      <td>61</td>\n",
       "    </tr>\n",
       "    <tr>\n",
       "      <th>2</th>\n",
       "      <td>4</td>\n",
       "      <td>14320</td>\n",
       "    </tr>\n",
       "    <tr>\n",
       "      <th>3</th>\n",
       "      <td>5</td>\n",
       "      <td>26</td>\n",
       "    </tr>\n",
       "    <tr>\n",
       "      <th>4</th>\n",
       "      <td>6</td>\n",
       "      <td>85</td>\n",
       "    </tr>\n",
       "  </tbody>\n",
       "</table>\n",
       "</div>"
      ],
      "text/plain": [
       "   node lineal_threshold\n",
       "0     2               27\n",
       "1     3               61\n",
       "2     4            14320\n",
       "3     5               26\n",
       "4     6               85"
      ]
     },
     "execution_count": 21,
     "metadata": {},
     "output_type": "execute_result"
    }
   ],
   "source": [
    "ltc = pd.DataFrame([[key,value] for key,value in ltc_dict.items()],columns=[\"node\",\"lineal_threshold\"])\n",
    "ltc['node'] = ltc['node'].convert_objects(convert_numeric=True)\n",
    "ltc.sort_values('node', inplace = True)\n",
    "ltc.reset_index(drop=True, inplace = True)\n",
    "ltc.head()"
   ]
  },
  {
   "cell_type": "code",
   "execution_count": 22,
   "metadata": {
    "collapsed": false
   },
   "outputs": [
    {
     "name": "stderr",
     "output_type": "stream",
     "text": [
      "/usr/local/lib/python3.4/dist-packages/ipykernel/__main__.py:2: FutureWarning: convert_objects is deprecated.  Use the data-type specific converters pd.to_datetime, pd.to_timedelta and pd.to_numeric.\n",
      "  from ipykernel import kernelapp as app\n"
     ]
    },
    {
     "data": {
      "text/html": [
       "<div>\n",
       "<table border=\"1\" class=\"dataframe\">\n",
       "  <thead>\n",
       "    <tr style=\"text-align: right;\">\n",
       "      <th></th>\n",
       "      <th>katz_centrality</th>\n",
       "      <th>lineal_threshold</th>\n",
       "      <th>pagerank</th>\n",
       "      <th>degree</th>\n",
       "      <th>closs</th>\n",
       "      <th>betweenness</th>\n",
       "    </tr>\n",
       "  </thead>\n",
       "  <tbody>\n",
       "    <tr>\n",
       "      <th>0</th>\n",
       "      <td>0.001769</td>\n",
       "      <td>27</td>\n",
       "      <td>0.000003</td>\n",
       "      <td>0.000004</td>\n",
       "      <td>0.000000</td>\n",
       "      <td>0.000000</td>\n",
       "    </tr>\n",
       "    <tr>\n",
       "      <th>1</th>\n",
       "      <td>0.001769</td>\n",
       "      <td>61</td>\n",
       "      <td>0.000003</td>\n",
       "      <td>0.000004</td>\n",
       "      <td>0.000000</td>\n",
       "      <td>0.000000</td>\n",
       "    </tr>\n",
       "    <tr>\n",
       "      <th>2</th>\n",
       "      <td>0.003088</td>\n",
       "      <td>14320</td>\n",
       "      <td>0.000004</td>\n",
       "      <td>0.000320</td>\n",
       "      <td>0.000329</td>\n",
       "      <td>0.000002</td>\n",
       "    </tr>\n",
       "    <tr>\n",
       "      <th>3</th>\n",
       "      <td>0.001608</td>\n",
       "      <td>26</td>\n",
       "      <td>0.000003</td>\n",
       "      <td>0.000094</td>\n",
       "      <td>0.000096</td>\n",
       "      <td>0.000000</td>\n",
       "    </tr>\n",
       "    <tr>\n",
       "      <th>4</th>\n",
       "      <td>0.001608</td>\n",
       "      <td>85</td>\n",
       "      <td>0.000003</td>\n",
       "      <td>0.000324</td>\n",
       "      <td>0.000324</td>\n",
       "      <td>0.000000</td>\n",
       "    </tr>\n",
       "  </tbody>\n",
       "</table>\n",
       "</div>"
      ],
      "text/plain": [
       "   katz_centrality  lineal_threshold  pagerank    degree     closs  \\\n",
       "0         0.001769                27  0.000003  0.000004  0.000000   \n",
       "1         0.001769                61  0.000003  0.000004  0.000000   \n",
       "2         0.003088             14320  0.000004  0.000320  0.000329   \n",
       "3         0.001608                26  0.000003  0.000094  0.000096   \n",
       "4         0.001608                85  0.000003  0.000324  0.000324   \n",
       "\n",
       "   betweenness  \n",
       "0     0.000000  \n",
       "1     0.000000  \n",
       "2     0.000002  \n",
       "3     0.000000  \n",
       "4     0.000000  "
      ]
     },
     "execution_count": 22,
     "metadata": {},
     "output_type": "execute_result"
    }
   ],
   "source": [
    "influence_model = pd.concat([ktz,ltc, pgr, deg, clos, bet], axis=1)\n",
    "influence_model['lineal_threshold'] = influence_model['lineal_threshold'].convert_objects(convert_numeric=True)\n",
    "del influence_model['node']\n",
    "influence_model.head()"
   ]
  },
  {
   "cell_type": "code",
   "execution_count": 23,
   "metadata": {
    "collapsed": false
   },
   "outputs": [
    {
     "data": {
      "text/html": [
       "<div>\n",
       "<table border=\"1\" class=\"dataframe\">\n",
       "  <thead>\n",
       "    <tr style=\"text-align: right;\">\n",
       "      <th></th>\n",
       "      <th>katz_centrality</th>\n",
       "      <th>lineal_threshold</th>\n",
       "      <th>pagerank</th>\n",
       "      <th>degree</th>\n",
       "      <th>closs</th>\n",
       "      <th>betweenness</th>\n",
       "    </tr>\n",
       "  </thead>\n",
       "  <tbody>\n",
       "    <tr>\n",
       "      <th>0</th>\n",
       "      <td>0.001769</td>\n",
       "      <td>0.000105</td>\n",
       "      <td>0.000003</td>\n",
       "      <td>0.000004</td>\n",
       "      <td>0.000000</td>\n",
       "      <td>0.000000</td>\n",
       "    </tr>\n",
       "    <tr>\n",
       "      <th>1</th>\n",
       "      <td>0.001769</td>\n",
       "      <td>0.000238</td>\n",
       "      <td>0.000003</td>\n",
       "      <td>0.000004</td>\n",
       "      <td>0.000000</td>\n",
       "      <td>0.000000</td>\n",
       "    </tr>\n",
       "    <tr>\n",
       "      <th>2</th>\n",
       "      <td>0.003088</td>\n",
       "      <td>0.055831</td>\n",
       "      <td>0.000004</td>\n",
       "      <td>0.000320</td>\n",
       "      <td>0.000329</td>\n",
       "      <td>0.000002</td>\n",
       "    </tr>\n",
       "    <tr>\n",
       "      <th>3</th>\n",
       "      <td>0.001608</td>\n",
       "      <td>0.000101</td>\n",
       "      <td>0.000003</td>\n",
       "      <td>0.000094</td>\n",
       "      <td>0.000096</td>\n",
       "      <td>0.000000</td>\n",
       "    </tr>\n",
       "    <tr>\n",
       "      <th>4</th>\n",
       "      <td>0.001608</td>\n",
       "      <td>0.000331</td>\n",
       "      <td>0.000003</td>\n",
       "      <td>0.000324</td>\n",
       "      <td>0.000324</td>\n",
       "      <td>0.000000</td>\n",
       "    </tr>\n",
       "  </tbody>\n",
       "</table>\n",
       "</div>"
      ],
      "text/plain": [
       "   katz_centrality  lineal_threshold  pagerank    degree     closs  \\\n",
       "0         0.001769          0.000105  0.000003  0.000004  0.000000   \n",
       "1         0.001769          0.000238  0.000003  0.000004  0.000000   \n",
       "2         0.003088          0.055831  0.000004  0.000320  0.000329   \n",
       "3         0.001608          0.000101  0.000003  0.000094  0.000096   \n",
       "4         0.001608          0.000331  0.000003  0.000324  0.000324   \n",
       "\n",
       "   betweenness  \n",
       "0     0.000000  \n",
       "1     0.000000  \n",
       "2     0.000002  \n",
       "3     0.000000  \n",
       "4     0.000000  "
      ]
     },
     "execution_count": 23,
     "metadata": {},
     "output_type": "execute_result"
    }
   ],
   "source": [
    "# Normalize lineal_threshold\n",
    "influence_model['lineal_threshold'] = influence_model['lineal_threshold'].astype(float)\n",
    "influence_model['lineal_threshold'] = (influence_model['lineal_threshold'] / 256490)\n",
    "influence_model.head()"
   ]
  },
  {
   "cell_type": "code",
   "execution_count": 24,
   "metadata": {
    "collapsed": false
   },
   "outputs": [
    {
     "data": {
      "text/plain": [
       "katz_centrality     0.000572\n",
       "lineal_threshold    0.009133\n",
       "pagerank            0.000001\n",
       "degree              0.000152\n",
       "closs               0.003662\n",
       "betweenness         0.000003\n",
       "dtype: float64"
      ]
     },
     "execution_count": 24,
     "metadata": {},
     "output_type": "execute_result"
    }
   ],
   "source": [
    "influence_model.std()"
   ]
  },
  {
   "cell_type": "code",
   "execution_count": 25,
   "metadata": {
    "collapsed": false
   },
   "outputs": [
    {
     "name": "stdout",
     "output_type": "stream",
     "text": [
      "[katz_centrality].unique: 774\n",
      "[lineal_threshold].unique: 7000\n",
      "[pagerank].unique: 33956\n",
      "[degree].unique: 375\n",
      "[closs].unique: 4331\n",
      "[betweenness].unique: 5015\n"
     ]
    }
   ],
   "source": [
    "print('[katz_centrality].unique: {}'.format(len(influence_model['katz_centrality'].unique())))\n",
    "print('[lineal_threshold].unique: {}'.format(len(influence_model['lineal_threshold'].unique())))\n",
    "print('[pagerank].unique: {}'.format(len(influence_model['pagerank'].unique())))\n",
    "print('[degree].unique: {}'.format(len(influence_model['degree'].unique())))\n",
    "print('[closs].unique: {}'.format(len(influence_model['closs'].unique())))\n",
    "print('[betweenness].unique: {}'.format(len(influence_model['betweenness'].unique())))"
   ]
  },
  {
   "cell_type": "code",
   "execution_count": null,
   "metadata": {
    "collapsed": false
   },
   "outputs": [],
   "source": []
  }
 ],
 "metadata": {
  "kernelspec": {
   "display_name": "Python 3",
   "language": "python",
   "name": "python3"
  },
  "language_info": {
   "codemirror_mode": {
    "name": "ipython",
    "version": 3
   },
   "file_extension": ".py",
   "mimetype": "text/x-python",
   "name": "python",
   "nbconvert_exporter": "python",
   "pygments_lexer": "ipython3",
   "version": "3.4.3"
  }
 },
 "nbformat": 4,
 "nbformat_minor": 1
}
