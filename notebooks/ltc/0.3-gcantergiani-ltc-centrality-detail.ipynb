{
 "cells": [
  {
   "cell_type": "markdown",
   "metadata": {},
   "source": [
    "# LTC details: normalized (max score)"
   ]
  },
  {
   "cell_type": "code",
   "execution_count": 1,
   "metadata": {
    "collapsed": false
   },
   "outputs": [],
   "source": [
    "%matplotlib inline\n",
    "\n",
    "import pandas as pd\n",
    "import pylab\n",
    "import matplotlib.pyplot as plt\n",
    "import openpyxl"
   ]
  },
  {
   "cell_type": "code",
   "execution_count": 2,
   "metadata": {
    "collapsed": false
   },
   "outputs": [
    {
     "data": {
      "text/html": [
       "<div>\n",
       "<table border=\"1\" class=\"dataframe\">\n",
       "  <thead>\n",
       "    <tr style=\"text-align: right;\">\n",
       "      <th></th>\n",
       "      <th>id_node</th>\n",
       "      <th>lvl</th>\n",
       "      <th>ltc</th>\n",
       "    </tr>\n",
       "  </thead>\n",
       "  <tbody>\n",
       "    <tr>\n",
       "      <th>0</th>\n",
       "      <td>128656</td>\n",
       "      <td>0</td>\n",
       "      <td>4</td>\n",
       "    </tr>\n",
       "    <tr>\n",
       "      <th>1</th>\n",
       "      <td>128656</td>\n",
       "      <td>1</td>\n",
       "      <td>7676</td>\n",
       "    </tr>\n",
       "    <tr>\n",
       "      <th>2</th>\n",
       "      <td>128656</td>\n",
       "      <td>2</td>\n",
       "      <td>9455</td>\n",
       "    </tr>\n",
       "    <tr>\n",
       "      <th>3</th>\n",
       "      <td>128656</td>\n",
       "      <td>3</td>\n",
       "      <td>9707</td>\n",
       "    </tr>\n",
       "    <tr>\n",
       "      <th>4</th>\n",
       "      <td>128656</td>\n",
       "      <td>4</td>\n",
       "      <td>9747</td>\n",
       "    </tr>\n",
       "  </tbody>\n",
       "</table>\n",
       "</div>"
      ],
      "text/plain": [
       "   id_node  lvl   ltc\n",
       "0   128656    0     4\n",
       "1   128656    1  7676\n",
       "2   128656    2  9455\n",
       "3   128656    3  9707\n",
       "4   128656    4  9747"
      ]
     },
     "execution_count": 2,
     "metadata": {},
     "output_type": "execute_result"
    }
   ],
   "source": [
    "df = pd.read_csv(\"../../data/processed/result_detail_ltc.csv\",delimiter=\";\")\n",
    "df.head()"
   ]
  },
  {
   "cell_type": "code",
   "execution_count": 3,
   "metadata": {
    "collapsed": false
   },
   "outputs": [
    {
     "data": {
      "text/html": [
       "<div>\n",
       "<table border=\"1\" class=\"dataframe\">\n",
       "  <thead>\n",
       "    <tr style=\"text-align: right;\">\n",
       "      <th></th>\n",
       "      <th>id_node</th>\n",
       "      <th>lvl</th>\n",
       "      <th>ltc</th>\n",
       "    </tr>\n",
       "  </thead>\n",
       "  <tbody>\n",
       "    <tr>\n",
       "      <th>0</th>\n",
       "      <td>128656</td>\n",
       "      <td>0</td>\n",
       "      <td>0.000075</td>\n",
       "    </tr>\n",
       "    <tr>\n",
       "      <th>1</th>\n",
       "      <td>128656</td>\n",
       "      <td>1</td>\n",
       "      <td>0.144789</td>\n",
       "    </tr>\n",
       "    <tr>\n",
       "      <th>2</th>\n",
       "      <td>128656</td>\n",
       "      <td>2</td>\n",
       "      <td>0.178346</td>\n",
       "    </tr>\n",
       "    <tr>\n",
       "      <th>3</th>\n",
       "      <td>128656</td>\n",
       "      <td>3</td>\n",
       "      <td>0.183099</td>\n",
       "    </tr>\n",
       "    <tr>\n",
       "      <th>4</th>\n",
       "      <td>128656</td>\n",
       "      <td>4</td>\n",
       "      <td>0.183854</td>\n",
       "    </tr>\n",
       "  </tbody>\n",
       "</table>\n",
       "</div>"
      ],
      "text/plain": [
       "   id_node  lvl       ltc\n",
       "0   128656    0  0.000075\n",
       "1   128656    1  0.144789\n",
       "2   128656    2  0.178346\n",
       "3   128656    3  0.183099\n",
       "4   128656    4  0.183854"
      ]
     },
     "execution_count": 3,
     "metadata": {},
     "output_type": "execute_result"
    }
   ],
   "source": [
    "# Normalize lineal_threshold\n",
    "df['ltc'] = df['ltc'].astype(float)\n",
    "df['ltc'] = (df['ltc'] / 53015)\n",
    "df.head()"
   ]
  },
  {
   "cell_type": "code",
   "execution_count": 4,
   "metadata": {
    "collapsed": false
   },
   "outputs": [
    {
     "data": {
      "text/html": [
       "<div>\n",
       "<table border=\"1\" class=\"dataframe\">\n",
       "  <thead>\n",
       "    <tr style=\"text-align: right;\">\n",
       "      <th></th>\n",
       "      <th>lvl</th>\n",
       "      <th>ltc</th>\n",
       "    </tr>\n",
       "    <tr>\n",
       "      <th>id_node</th>\n",
       "      <th></th>\n",
       "      <th></th>\n",
       "    </tr>\n",
       "  </thead>\n",
       "  <tbody>\n",
       "    <tr>\n",
       "      <th>2</th>\n",
       "      <td>2</td>\n",
       "      <td>0.000490</td>\n",
       "    </tr>\n",
       "    <tr>\n",
       "      <th>3</th>\n",
       "      <td>2</td>\n",
       "      <td>0.001132</td>\n",
       "    </tr>\n",
       "    <tr>\n",
       "      <th>4</th>\n",
       "      <td>5</td>\n",
       "      <td>0.270093</td>\n",
       "    </tr>\n",
       "    <tr>\n",
       "      <th>5</th>\n",
       "      <td>1</td>\n",
       "      <td>0.000472</td>\n",
       "    </tr>\n",
       "    <tr>\n",
       "      <th>6</th>\n",
       "      <td>1</td>\n",
       "      <td>0.001584</td>\n",
       "    </tr>\n",
       "  </tbody>\n",
       "</table>\n",
       "</div>"
      ],
      "text/plain": [
       "         lvl       ltc\n",
       "id_node               \n",
       "2          2  0.000490\n",
       "3          2  0.001132\n",
       "4          5  0.270093\n",
       "5          1  0.000472\n",
       "6          1  0.001584"
      ]
     },
     "execution_count": 4,
     "metadata": {},
     "output_type": "execute_result"
    }
   ],
   "source": [
    "# For each node group by id_node and select the last level\n",
    "df2 = df.groupby(['id_node']).last()\n",
    "df2.head()"
   ]
  },
  {
   "cell_type": "code",
   "execution_count": 5,
   "metadata": {
    "collapsed": false
   },
   "outputs": [
    {
     "data": {
      "text/plain": [
       "lvl\n",
       "0     42129\n",
       "1     63189\n",
       "2     73260\n",
       "3     51118\n",
       "4     11516\n",
       "5     14861\n",
       "6       211\n",
       "7       171\n",
       "8        22\n",
       "9         8\n",
       "10        4\n",
       "12        2\n",
       "dtype: int64"
      ]
     },
     "execution_count": 5,
     "metadata": {},
     "output_type": "execute_result"
    }
   ],
   "source": [
    "df2.groupby(['lvl']).size()"
   ]
  },
  {
   "cell_type": "code",
   "execution_count": 6,
   "metadata": {
    "collapsed": false
   },
   "outputs": [
    {
     "data": {
      "image/png": "[encoded data removed]",
      "text/plain": [
       "<matplotlib.figure.Figure at 0x7fc961c641d0>"
      ]
     },
     "metadata": {},
     "output_type": "display_data"
    }
   ],
   "source": [
    "df2[['lvl','ltc']].groupby(['lvl']).size().plot(logy=True)\n",
    "\n",
    "pylab.title(\"Nodes vs levels\")\n",
    "pylab.xlabel(\"Levels\")\n",
    "_ = pylab.ylabel(\"Nodes\")"
   ]
  },
  {
   "cell_type": "code",
   "execution_count": 7,
   "metadata": {
    "collapsed": true
   },
   "outputs": [],
   "source": [
    "def print_full(x):\n",
    "    pd.set_option('display.max_rows', len(x))\n",
    "    print(x)\n",
    "    pd.reset_option('display.max_rows')"
   ]
  },
  {
   "cell_type": "code",
   "execution_count": 8,
   "metadata": {
    "collapsed": false
   },
   "outputs": [
    {
     "name": "stdout",
     "output_type": "stream",
     "text": [
      "                    ltc\n",
      "lvl                    \n",
      "0   count  42129.000000\n",
      "    mean       0.000034\n",
      "    std        0.000076\n",
      "    min        0.000019\n",
      "    25%        0.000019\n",
      "    50%        0.000019\n",
      "    75%        0.000019\n",
      "    max        0.003640\n",
      "1   count  63189.000000\n",
      "    mean       0.000607\n",
      "    std        0.001279\n",
      "    min        0.000038\n",
      "    25%        0.000075\n",
      "    50%        0.000189\n",
      "    75%        0.000585\n",
      "    max        0.016750\n",
      "2   count  73260.000000\n",
      "    mean       0.004855\n",
      "    std        0.005359\n",
      "    min        0.000057\n",
      "    25%        0.001151\n",
      "    50%        0.002886\n",
      "    75%        0.006545\n",
      "    max        0.043648\n",
      "3   count  51118.000000\n",
      "    mean       0.025506\n",
      "    std        0.024628\n",
      "    min        0.000075\n",
      "    25%        0.007507\n",
      "    50%        0.017184\n",
      "    75%        0.035952\n",
      "    max        0.204961\n",
      "4   count  11516.000000\n",
      "    mean       0.021633\n",
      "    std        0.025178\n",
      "    min        0.000170\n",
      "    25%        0.007620\n",
      "    50%        0.012855\n",
      "    75%        0.023880\n",
      "    max        0.246459\n",
      "5   count  14861.000000\n",
      "    mean       0.170490\n",
      "    std        0.051933\n",
      "    min        0.000604\n",
      "    25%        0.166028\n",
      "    50%        0.166028\n",
      "    75%        0.177007\n",
      "    max        0.500292\n",
      "6   count    211.000000\n",
      "    mean       0.211390\n",
      "    std        0.111138\n",
      "    min        0.007319\n",
      "    25%        0.174055\n",
      "    50%        0.198831\n",
      "    75%        0.275960\n",
      "    max        0.552051\n",
      "7   count    171.000000\n",
      "    mean       0.256724\n",
      "    std        0.107715\n",
      "    min        0.045063\n",
      "    25%        0.184844\n",
      "    50%        0.232538\n",
      "    75%        0.300462\n",
      "    max        0.999981\n",
      "8   count     22.000000\n",
      "    mean       0.294779\n",
      "    std        0.128516\n",
      "    min        0.057172\n",
      "    25%        0.253985\n",
      "    50%        0.301188\n",
      "    75%        0.385532\n",
      "    max        0.525964\n",
      "9   count      8.000000\n",
      "    mean       0.350943\n",
      "    std        0.162660\n",
      "    min        0.072866\n",
      "    25%        0.325606\n",
      "    50%        0.421626\n",
      "    75%        0.450755\n",
      "    max        0.471282\n",
      "10  count      4.000000\n",
      "    mean       0.339088\n",
      "    std        0.142361\n",
      "    min        0.134585\n",
      "    25%        0.299312\n",
      "    50%        0.383882\n",
      "    75%        0.423658\n",
      "    max        0.454004\n",
      "12  count      2.000000\n",
      "    mean       0.500472\n",
      "    std        0.097967\n",
      "    min        0.431199\n",
      "    25%        0.465835\n",
      "    50%        0.500472\n",
      "    75%        0.535108\n",
      "    max        0.569744\n"
     ]
    }
   ],
   "source": [
    "print_full(df2[['lvl','ltc']].groupby(['lvl']).describe())"
   ]
  },
  {
   "cell_type": "code",
   "execution_count": 9,
   "metadata": {
    "collapsed": false
   },
   "outputs": [
    {
     "data": {
      "text/html": [
       "<div>\n",
       "<table border=\"1\" class=\"dataframe\">\n",
       "  <thead>\n",
       "    <tr style=\"text-align: right;\">\n",
       "      <th></th>\n",
       "      <th>lvl</th>\n",
       "      <th>ltc</th>\n",
       "    </tr>\n",
       "  </thead>\n",
       "  <tbody>\n",
       "    <tr>\n",
       "      <th>lvl</th>\n",
       "      <td>1.000000</td>\n",
       "      <td>0.673117</td>\n",
       "    </tr>\n",
       "    <tr>\n",
       "      <th>ltc</th>\n",
       "      <td>0.673117</td>\n",
       "      <td>1.000000</td>\n",
       "    </tr>\n",
       "  </tbody>\n",
       "</table>\n",
       "</div>"
      ],
      "text/plain": [
       "          lvl       ltc\n",
       "lvl  1.000000  0.673117\n",
       "ltc  0.673117  1.000000"
      ]
     },
     "execution_count": 9,
     "metadata": {},
     "output_type": "execute_result"
    }
   ],
   "source": [
    "df2[['lvl','ltc']].corr()"
   ]
  },
  {
   "cell_type": "code",
   "execution_count": 10,
   "metadata": {
    "collapsed": false
   },
   "outputs": [
    {
     "data": {
      "text/html": [
       "<div>\n",
       "<table border=\"1\" class=\"dataframe\">\n",
       "  <thead>\n",
       "    <tr style=\"text-align: right;\">\n",
       "      <th></th>\n",
       "      <th>lvl</th>\n",
       "      <th>ltc</th>\n",
       "    </tr>\n",
       "  </thead>\n",
       "  <tbody>\n",
       "    <tr>\n",
       "      <th>lvl</th>\n",
       "      <td>1.000000</td>\n",
       "      <td>0.893708</td>\n",
       "    </tr>\n",
       "    <tr>\n",
       "      <th>ltc</th>\n",
       "      <td>0.893708</td>\n",
       "      <td>1.000000</td>\n",
       "    </tr>\n",
       "  </tbody>\n",
       "</table>\n",
       "</div>"
      ],
      "text/plain": [
       "          lvl       ltc\n",
       "lvl  1.000000  0.893708\n",
       "ltc  0.893708  1.000000"
      ]
     },
     "execution_count": 10,
     "metadata": {},
     "output_type": "execute_result"
    }
   ],
   "source": [
    "df2[['lvl','ltc']].corr(method=\"spearman\")"
   ]
  },
  {
   "cell_type": "code",
   "execution_count": 11,
   "metadata": {
    "collapsed": false
   },
   "outputs": [
    {
     "data": {
      "text/html": [
       "<div>\n",
       "<table border=\"1\" class=\"dataframe\">\n",
       "  <thead>\n",
       "    <tr style=\"text-align: right;\">\n",
       "      <th></th>\n",
       "      <th>lvl</th>\n",
       "      <th>ltc</th>\n",
       "    </tr>\n",
       "  </thead>\n",
       "  <tbody>\n",
       "    <tr>\n",
       "      <th>lvl</th>\n",
       "      <td>1.000000</td>\n",
       "      <td>0.773618</td>\n",
       "    </tr>\n",
       "    <tr>\n",
       "      <th>ltc</th>\n",
       "      <td>0.773618</td>\n",
       "      <td>1.000000</td>\n",
       "    </tr>\n",
       "  </tbody>\n",
       "</table>\n",
       "</div>"
      ],
      "text/plain": [
       "          lvl       ltc\n",
       "lvl  1.000000  0.773618\n",
       "ltc  0.773618  1.000000"
      ]
     },
     "execution_count": 11,
     "metadata": {},
     "output_type": "execute_result"
    }
   ],
   "source": [
    "df2[['lvl','ltc']].corr(method=\"kendall\")"
   ]
  },
  {
   "cell_type": "code",
   "execution_count": null,
   "metadata": {
    "collapsed": true
   },
   "outputs": [],
   "source": []
  }
 ],
 "metadata": {
  "kernelspec": {
   "display_name": "Python 3",
   "language": "python",
   "name": "python3"
  },
  "language_info": {
   "codemirror_mode": {
    "name": "ipython",
    "version": 3
   },
   "file_extension": ".py",
   "mimetype": "text/x-python",
   "name": "python",
   "nbconvert_exporter": "python",
   "pygments_lexer": "ipython3",
   "version": "3.4.3"
  }
 },
 "nbformat": 4,
 "nbformat_minor": 1
}
