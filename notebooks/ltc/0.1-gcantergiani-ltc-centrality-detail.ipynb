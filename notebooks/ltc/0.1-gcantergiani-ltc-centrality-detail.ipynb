{
 "cells": [
  {
   "cell_type": "markdown",
   "metadata": {},
   "source": [
    "# LTC details raw values"
   ]
  },
  {
   "cell_type": "code",
   "execution_count": 4,
   "metadata": {
    "collapsed": false
   },
   "outputs": [],
   "source": [
    "%matplotlib inline\n",
    "\n",
    "import pandas as pd\n",
    "import pylab\n",
    "import matplotlib.pyplot as plt\n",
    "import openpyxl"
   ]
  },
  {
   "cell_type": "code",
   "execution_count": 5,
   "metadata": {
    "collapsed": false
   },
   "outputs": [
    {
     "data": {
      "text/html": [
       "<div>\n",
       "<table border=\"1\" class=\"dataframe\">\n",
       "  <thead>\n",
       "    <tr style=\"text-align: right;\">\n",
       "      <th></th>\n",
       "      <th>id_node</th>\n",
       "      <th>lvl</th>\n",
       "      <th>ltc</th>\n",
       "    </tr>\n",
       "  </thead>\n",
       "  <tbody>\n",
       "    <tr>\n",
       "      <th>0</th>\n",
       "      <td>128656</td>\n",
       "      <td>0</td>\n",
       "      <td>4</td>\n",
       "    </tr>\n",
       "    <tr>\n",
       "      <th>1</th>\n",
       "      <td>128656</td>\n",
       "      <td>1</td>\n",
       "      <td>7676</td>\n",
       "    </tr>\n",
       "    <tr>\n",
       "      <th>2</th>\n",
       "      <td>128656</td>\n",
       "      <td>2</td>\n",
       "      <td>9455</td>\n",
       "    </tr>\n",
       "    <tr>\n",
       "      <th>3</th>\n",
       "      <td>128656</td>\n",
       "      <td>3</td>\n",
       "      <td>9707</td>\n",
       "    </tr>\n",
       "    <tr>\n",
       "      <th>4</th>\n",
       "      <td>128656</td>\n",
       "      <td>4</td>\n",
       "      <td>9747</td>\n",
       "    </tr>\n",
       "  </tbody>\n",
       "</table>\n",
       "</div>"
      ],
      "text/plain": [
       "   id_node  lvl   ltc\n",
       "0   128656    0     4\n",
       "1   128656    1  7676\n",
       "2   128656    2  9455\n",
       "3   128656    3  9707\n",
       "4   128656    4  9747"
      ]
     },
     "execution_count": 5,
     "metadata": {},
     "output_type": "execute_result"
    }
   ],
   "source": [
    "df = pd.read_csv(\"../../data/processed/result_detail_ltc.csv\",delimiter=\";\")\n",
    "df.head()"
   ]
  },
  {
   "cell_type": "code",
   "execution_count": 7,
   "metadata": {
    "collapsed": false
   },
   "outputs": [
    {
     "data": {
      "text/plain": [
       "lvl\n",
       "0     256491\n",
       "1     214362\n",
       "2     151173\n",
       "3      77913\n",
       "4      26795\n",
       "5      15279\n",
       "6        418\n",
       "7        207\n",
       "8         36\n",
       "9         14\n",
       "10         6\n",
       "11         2\n",
       "12         2\n",
       "dtype: int64"
      ]
     },
     "execution_count": 7,
     "metadata": {},
     "output_type": "execute_result"
    }
   ],
   "source": [
    "df[['lvl','id_node']].groupby(['lvl']).size()"
   ]
  },
  {
   "cell_type": "code",
   "execution_count": 5,
   "metadata": {
    "collapsed": false
   },
   "outputs": [
    {
     "data": {
      "image/png": "[encoded data removed]",
      "text/plain": [
       "<matplotlib.figure.Figure at 0x7fbb8f8014e0>"
      ]
     },
     "metadata": {},
     "output_type": "display_data"
    }
   ],
   "source": [
    "df[['lvl','id_node']].groupby(['lvl']).size().plot(logy=True)\n",
    "\n",
    "pylab.title(\"Nodes vs levels (cumulative)\")\n",
    "pylab.xlabel(\"Levels\")\n",
    "_ = pylab.ylabel(\"Nodes (cumulative)\")"
   ]
  },
  {
   "cell_type": "code",
   "execution_count": 8,
   "metadata": {
    "collapsed": true
   },
   "outputs": [],
   "source": [
    "def print_full(x):\n",
    "    pd.set_option('display.max_rows', len(x))\n",
    "    print(x)\n",
    "    pd.reset_option('display.max_rows')"
   ]
  },
  {
   "cell_type": "code",
   "execution_count": 9,
   "metadata": {
    "collapsed": false
   },
   "outputs": [
    {
     "name": "stdout",
     "output_type": "stream",
     "text": [
      "                     ltc\n",
      "lvl                     \n",
      "0   count  256491.000000\n",
      "    mean        2.558624\n",
      "    std        38.964447\n",
      "    min         1.000000\n",
      "    25%         1.000000\n",
      "    50%         1.000000\n",
      "    75%         2.000000\n",
      "    max     14063.000000\n",
      "1   count  214362.000000\n",
      "    mean      982.771471\n",
      "    std      2111.219928\n",
      "    min         2.000000\n",
      "    25%        24.000000\n",
      "    50%       150.000000\n",
      "    75%       640.000000\n",
      "    max     45273.000000\n",
      "2   count  151173.000000\n",
      "    mean     1554.269122\n",
      "    std      2783.817218\n",
      "    min         3.000000\n",
      "    25%       125.000000\n",
      "    50%       407.000000\n",
      "    75%      1202.000000\n",
      "    max     51671.000000\n",
      "3   count   77913.000000\n",
      "    mean     2837.904701\n",
      "    std      3550.835850\n",
      "    min         4.000000\n",
      "    25%       464.000000\n",
      "    50%      1143.000000\n",
      "    75%      4002.000000\n",
      "    max     52782.000000\n",
      "4   count   26795.000000\n",
      "    mean     5699.402799\n",
      "    std      4623.469236\n",
      "    min         9.000000\n",
      "    25%       831.000000\n",
      "    50%      8796.000000\n",
      "    75%      8808.000000\n",
      "    max     52977.000000\n",
      "5   count   15279.000000\n",
      "    mean     9138.098567\n",
      "    std      2961.887363\n",
      "    min        32.000000\n",
      "    25%      8802.000000\n",
      "    50%      8802.000000\n",
      "    75%      9498.000000\n",
      "    max     53001.000000\n",
      "6   count     418.000000\n",
      "    mean    12693.456938\n",
      "    std      6204.946041\n",
      "    min       388.000000\n",
      "    25%      9715.000000\n",
      "    50%     11852.500000\n",
      "    75%     15891.000000\n",
      "    max     53011.000000\n",
      "7   count     207.000000\n",
      "    mean    14221.449275\n",
      "    std      6168.810416\n",
      "    min      2389.000000\n",
      "    25%      9824.000000\n",
      "    50%     13280.000000\n",
      "    75%     17452.500000\n",
      "    max     53014.000000\n",
      "8   count      36.000000\n",
      "    mean    17146.694444\n",
      "    std      7434.687150\n",
      "    min      3031.000000\n",
      "    25%     13947.000000\n",
      "    50%     18510.500000\n",
      "    75%     22689.250000\n",
      "    max     30056.000000\n",
      "9   count      14.000000\n",
      "    mean    19548.928571\n",
      "    std      7994.360690\n",
      "    min      3863.000000\n",
      "    25%     19355.750000\n",
      "    50%     22352.500000\n",
      "    75%     23945.500000\n",
      "    max     30111.000000\n",
      "10  count       6.000000\n",
      "    mean    20822.333333\n",
      "    std      7679.003260\n",
      "    min      7135.000000\n",
      "    25%     19565.250000\n",
      "    50%     22389.000000\n",
      "    75%     23765.250000\n",
      "    max     30173.000000\n",
      "11  count       2.000000\n",
      "    mean    26529.000000\n",
      "    std      5190.163774\n",
      "    min     22859.000000\n",
      "    25%     24694.000000\n",
      "    50%     26529.000000\n",
      "    75%     28364.000000\n",
      "    max     30199.000000\n",
      "12  count       2.000000\n",
      "    mean    26532.500000\n",
      "    std      5193.699308\n",
      "    min     22860.000000\n",
      "    25%     24696.250000\n",
      "    50%     26532.500000\n",
      "    75%     28368.750000\n",
      "    max     30205.000000\n"
     ]
    }
   ],
   "source": [
    "print_full(df[['lvl','ltc']].groupby(['lvl']).describe())"
   ]
  },
  {
   "cell_type": "code",
   "execution_count": 10,
   "metadata": {
    "collapsed": false
   },
   "outputs": [
    {
     "data": {
      "text/html": [
       "<div>\n",
       "<table border=\"1\" class=\"dataframe\">\n",
       "  <thead>\n",
       "    <tr style=\"text-align: right;\">\n",
       "      <th></th>\n",
       "      <th>lvl</th>\n",
       "      <th>ltc</th>\n",
       "    </tr>\n",
       "  </thead>\n",
       "  <tbody>\n",
       "    <tr>\n",
       "      <th>lvl</th>\n",
       "      <td>1.000000</td>\n",
       "      <td>0.558861</td>\n",
       "    </tr>\n",
       "    <tr>\n",
       "      <th>ltc</th>\n",
       "      <td>0.558861</td>\n",
       "      <td>1.000000</td>\n",
       "    </tr>\n",
       "  </tbody>\n",
       "</table>\n",
       "</div>"
      ],
      "text/plain": [
       "          lvl       ltc\n",
       "lvl  1.000000  0.558861\n",
       "ltc  0.558861  1.000000"
      ]
     },
     "execution_count": 10,
     "metadata": {},
     "output_type": "execute_result"
    }
   ],
   "source": [
    "df[['lvl','ltc']].corr()"
   ]
  },
  {
   "cell_type": "code",
   "execution_count": 11,
   "metadata": {
    "collapsed": false
   },
   "outputs": [
    {
     "data": {
      "text/html": [
       "<div>\n",
       "<table border=\"1\" class=\"dataframe\">\n",
       "  <thead>\n",
       "    <tr style=\"text-align: right;\">\n",
       "      <th></th>\n",
       "      <th>lvl</th>\n",
       "      <th>ltc</th>\n",
       "    </tr>\n",
       "  </thead>\n",
       "  <tbody>\n",
       "    <tr>\n",
       "      <th>lvl</th>\n",
       "      <td>1.000000</td>\n",
       "      <td>0.836497</td>\n",
       "    </tr>\n",
       "    <tr>\n",
       "      <th>ltc</th>\n",
       "      <td>0.836497</td>\n",
       "      <td>1.000000</td>\n",
       "    </tr>\n",
       "  </tbody>\n",
       "</table>\n",
       "</div>"
      ],
      "text/plain": [
       "          lvl       ltc\n",
       "lvl  1.000000  0.836497\n",
       "ltc  0.836497  1.000000"
      ]
     },
     "execution_count": 11,
     "metadata": {},
     "output_type": "execute_result"
    }
   ],
   "source": [
    "df[['lvl','ltc']].corr(method=\"spearman\")"
   ]
  },
  {
   "cell_type": "code",
   "execution_count": 12,
   "metadata": {
    "collapsed": false
   },
   "outputs": [
    {
     "data": {
      "text/html": [
       "<div>\n",
       "<table border=\"1\" class=\"dataframe\">\n",
       "  <thead>\n",
       "    <tr style=\"text-align: right;\">\n",
       "      <th></th>\n",
       "      <th>lvl</th>\n",
       "      <th>ltc</th>\n",
       "    </tr>\n",
       "  </thead>\n",
       "  <tbody>\n",
       "    <tr>\n",
       "      <th>lvl</th>\n",
       "      <td>1.000000</td>\n",
       "      <td>0.698245</td>\n",
       "    </tr>\n",
       "    <tr>\n",
       "      <th>ltc</th>\n",
       "      <td>0.698245</td>\n",
       "      <td>1.000000</td>\n",
       "    </tr>\n",
       "  </tbody>\n",
       "</table>\n",
       "</div>"
      ],
      "text/plain": [
       "          lvl       ltc\n",
       "lvl  1.000000  0.698245\n",
       "ltc  0.698245  1.000000"
      ]
     },
     "execution_count": 12,
     "metadata": {},
     "output_type": "execute_result"
    }
   ],
   "source": [
    "df[['lvl','ltc']].corr(method=\"kendall\")"
   ]
  },
  {
   "cell_type": "code",
   "execution_count": null,
   "metadata": {
    "collapsed": true
   },
   "outputs": [],
   "source": []
  }
 ],
 "metadata": {
  "kernelspec": {
   "display_name": "Python 3",
   "language": "python",
   "name": "python3"
  },
  "language_info": {
   "codemirror_mode": {
    "name": "ipython",
    "version": 3
   },
   "file_extension": ".py",
   "mimetype": "text/x-python",
   "name": "python",
   "nbconvert_exporter": "python",
   "pygments_lexer": "ipython3",
   "version": "3.4.3"
  }
 },
 "nbformat": 4,
 "nbformat_minor": 1
}
