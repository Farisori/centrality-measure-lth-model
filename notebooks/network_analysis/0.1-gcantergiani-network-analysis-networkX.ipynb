{
 "cells": [
  {
   "cell_type": "code",
   "execution_count": null,
   "metadata": {
    "collapsed": false
   },
   "outputs": [],
   "source": [
    "import networkx as nx\n",
    "import pandas as pd\n",
    "import numpy as np"
   ]
  },
  {
   "cell_type": "code",
   "execution_count": null,
   "metadata": {
    "collapsed": true
   },
   "outputs": [],
   "source": [
    "PATH = \"../data/\"\n",
    "\n",
    "FILE_NETWORK_SOCIAL = \"higgs-social_network_example.edgelist\"\n",
    "FILE_NETWORK_SOCIAL_EXAMPLE = \"higgs-social_network_example.edgelist\"\n",
    "FILE_NETWORK_REPLY_WEIGHT = \"higgs-reply_network.edgelist\"\n",
    "FILE_NETWORK_RETWEET_WEIGHT_EXAMPLE = \"higgs-retweet_network_example.edgelist\"\n",
    "FILE_NETWORK_RETWEET_WEIGHT = \"higgs-retweet_network.edgelist\""
   ]
  },
  {
   "cell_type": "code",
   "execution_count": null,
   "metadata": {
    "collapsed": false
   },
   "outputs": [],
   "source": [
    "data = pd.read_csv(FILE_NETWORK_SOCIAL_EXAMPLE, sep=' ', names = ['source', 'target'])\n",
    "data.head()"
   ]
  },
  {
   "cell_type": "code",
   "execution_count": null,
   "metadata": {
    "collapsed": false
   },
   "outputs": [],
   "source": [
    "G = nx.from_pandas_dataframe(data, 'source', 'target')"
   ]
  },
  {
   "cell_type": "code",
   "execution_count": null,
   "metadata": {
    "collapsed": false
   },
   "outputs": [],
   "source": [
    "#G (graph) – A networkx graph\n",
    "#max_iter (interger, optional) – Maximum number of iterations in power method.\n",
    "#tol (float, optional) – Error tolerance used to check convergence in power method iteration.\n",
    "#nstart (dictionary, optional) – Starting value of eigenvector iteration for each node.\n",
    "#weight (None or string, optional) – If None, all edge weights are considered equal. Otherwise holds the name of the edge attribute used as weight.\n",
    "\n",
    "eigenvector_centrality = nx.eigenvector_centrality(G,max_iter=10000)\n",
    "repr(eigenvector_centrality)"
   ]
  },
  {
   "cell_type": "code",
   "execution_count": null,
   "metadata": {
    "collapsed": false
   },
   "outputs": [],
   "source": [
    "#G (graph) – A NetworkX graph\n",
    "#alpha (float) – Attenuation factor\n",
    "#beta (scalar or dictionary, optional (default=1.0)) – Weight attributed to the immediate neighborhood. If not a scalar the dictionary must have an value for every node.\n",
    "#max_iter (integer, optional (default=1000)) – Maximum number of iterations in power method.\n",
    "#tol (float, optional (default=1.0e-6)) – Error tolerance used to check convergence in power method iteration.\n",
    "#nstart (dictionary, optional) – Starting value of Katz iteration for each node.\n",
    "#normalized (bool, optional (default=True)) – If True normalize the resulting values.\n",
    "#weight (None or string, optional) – If None, all edge weights are considered equal. Otherwise holds the name of the edge attribute used as weight.\n",
    "\n",
    "katz_centrality = nx.katz_centrality(G, max_iter=10000, tol=0.5)\n",
    "repr(katz_centrality)"
   ]
  },
  {
   "cell_type": "code",
   "execution_count": null,
   "metadata": {
    "collapsed": false
   },
   "outputs": [],
   "source": [
    "#G (graph) – A NetworkX graph\n",
    "#k (int, optional (default=None)) – If k is not None use k node samples to estimate betweenness. The value of k <= n where n is the number of nodes in the graph. Higher values give better approximation.\n",
    "#normalized (bool, optional) – If True the betweenness values are normalized by 2/((n-1)(n-2)) for graphs, and 1/((n-1)(n-2)) for directed graphs where n is the number of nodes in G.\n",
    "#weight (None or string, optional) – If None, all edge weights are considered equal. Otherwise holds the name of the edge attribute used as weight.\n",
    "#endpoints (bool, optional) – If True include the endpoints in the shortest path counts.\n",
    "\n",
    "betweenness_centrality = nx.betweenness_centrality(G)\n",
    "repr(betweenness_centrality)"
   ]
  },
  {
   "cell_type": "code",
   "execution_count": null,
   "metadata": {
    "collapsed": false
   },
   "outputs": [],
   "source": [
    "#G (graph) – A NetworkX graph\n",
    "#u (node, optional) – Return only the value for node u\n",
    "#distance (edge attribute key, optional (default=None)) – Use the specified edge attribute as the edge distance in shortest path calculations\n",
    "#normalized (bool, optional) – If True (default) normalize by the number of nodes in the connected part of the graph.\n",
    "\n",
    "closeness_centrality = nx.closeness_centrality(G)\n",
    "repr(closeness_centrality)"
   ]
  },
  {
   "cell_type": "code",
   "execution_count": null,
   "metadata": {
    "collapsed": false
   },
   "outputs": [],
   "source": [
    "# PAGERANK\n",
    "\n",
    "#G (graph) A NetworkX graph\n",
    "#alpha : float, optional\n",
    "#personalization: dict, optional\n",
    "#max_iter : integer, optional\n",
    "#tol : float, optional\n",
    "#nstart : dictionary, optional\n",
    "#weight : key, optional\n",
    "#dangling: dict, optional\n",
    "\n",
    "pr = nx.pagerank(G)\n",
    "repr(pr)"
   ]
  },
  {
   "cell_type": "code",
   "execution_count": null,
   "metadata": {
    "collapsed": false
   },
   "outputs": [],
   "source": [
    "# HITS\n",
    "\n",
    "#G (graph) – A NetworkX graph\n",
    "#max_iter (interger, optional) – Maximum number of iterations in power method.\n",
    "#tol (float, optional) – Error tolerance used to check convergence in power method iteration.\n",
    "#nstart (dictionary, optional) – Starting value of each node for power method iteration.\n",
    "#normalized (bool (default=True)) – Normalize results by the sum of all of the values.\n",
    "\n",
    "h= nx.hits(G, max_iter = 1000)\n",
    "repr(h)"
   ]
  },
  {
   "cell_type": "code",
   "execution_count": null,
   "metadata": {
    "collapsed": false
   },
   "outputs": [],
   "source": [
    "data = pd.read_csv(FILE_NETWORK_RETWEET_WEIGHT, sep=' ', names = ['source', 'target','weight'])\n",
    "\n",
    "data.head()"
   ]
  },
  {
   "cell_type": "code",
   "execution_count": null,
   "metadata": {
    "collapsed": false
   },
   "outputs": [],
   "source": [
    "#G = nx.from_pandas_dataframe(data, 'source', 'target','weight')"
   ]
  },
  {
   "cell_type": "code",
   "execution_count": null,
   "metadata": {
    "collapsed": false
   },
   "outputs": [],
   "source": [
    "G = nx.Graph()\n",
    "for idx,row in data.iterrows():\n",
    "    G.add_edge(row['target'], row['source'], weight= row['weight'])"
   ]
  },
  {
   "cell_type": "code",
   "execution_count": null,
   "metadata": {
    "collapsed": false
   },
   "outputs": [],
   "source": [
    "#Each centrality algorithm, now with weights\n",
    "\n",
    "pagerank = nx.pagerank(G)\n",
    "#eigenvector_centrality = nx.eigenvector_centrality(G,max_iter=10000)\n",
    "# katz_centrality = nx.katz_centrality(G, max_iter=10000)\n",
    "#betweenness_centrality = nx.betweenness_centrality(G)\n",
    "#closeness_centrality = nx.closeness_centrality(G)\n",
    "#hits = nx.hits(G, max_iter = 1000)"
   ]
  },
  {
   "cell_type": "code",
   "execution_count": null,
   "metadata": {
    "collapsed": false
   },
   "outputs": [],
   "source": [
    "df = pd.DataFrame(list(katz_centrality.items()), columns=['node','katz_centrality'])\n",
    "df = pd.DataFrame(list(pagerank.items()), columns=['node','katz_centrality'])"
   ]
  },
  {
   "cell_type": "code",
   "execution_count": null,
   "metadata": {
    "collapsed": false
   },
   "outputs": [],
   "source": [
    "df.to_csv('katz_centrality.csv', index = False)"
   ]
  }
 ],
 "metadata": {
  "kernelspec": {
   "display_name": "Python 3",
   "language": "python",
   "name": "python3"
  },
  "language_info": {
   "codemirror_mode": {
    "name": "ipython",
    "version": 3
   },
   "file_extension": ".py",
   "mimetype": "text/x-python",
   "name": "python",
   "nbconvert_exporter": "python",
   "pygments_lexer": "ipython3",
   "version": "3.4.3"
  }
 },
 "nbformat": 4,
 "nbformat_minor": 1
}
