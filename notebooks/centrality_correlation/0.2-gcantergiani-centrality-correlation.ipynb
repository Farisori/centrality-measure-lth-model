{
 "cells": [
  {
   "cell_type": "code",
   "execution_count": 1,
   "metadata": {
    "collapsed": true
   },
   "outputs": [],
   "source": [
    "import pandas as pd\n",
    "import csv"
   ]
  },
  {
   "cell_type": "code",
   "execution_count": 2,
   "metadata": {
    "collapsed": false
   },
   "outputs": [],
   "source": [
    "#Retweet Network\n",
    "path = '../../data/processed'\n",
    "\n",
    "ktz = pd.read_csv(path + '/katz_centrality_1e1.csv')\n",
    "ltcA = pd.read_csv(path + '/lt_centrality_alternative.csv')\n",
    "pgr = pd.read_csv(path + '/page_rank.csv')\n",
    "deg = pd.read_csv(path + '/degree_centrality.csv')\n",
    "clos = pd.read_csv(path +'/closseness_centrality.csv')\n",
    "bet = pd.read_csv(path +'/betweenness_centrality.csv')"
   ]
  },
  {
   "cell_type": "code",
   "execution_count": 3,
   "metadata": {
    "collapsed": false
   },
   "outputs": [],
   "source": [
    "#ltc = (ltc - ltc.mean()) / (ltc.max() - ltc.min())"
   ]
  },
  {
   "cell_type": "code",
   "execution_count": 4,
   "metadata": {
    "collapsed": false
   },
   "outputs": [],
   "source": [
    "ltc_dict = {}\n",
    "with open(path + '/lt_centrality.csv', 'r') as csvfile:\n",
    "    lineal_threshold = csv.reader(csvfile, delimiter=',')\n",
    "    for row in lineal_threshold:\n",
    "        k, v = row\n",
    "        ltc_dict[k] = v"
   ]
  },
  {
   "cell_type": "code",
   "execution_count": 5,
   "metadata": {
    "collapsed": false
   },
   "outputs": [
    {
     "name": "stderr",
     "output_type": "stream",
     "text": [
      "/usr/local/lib/python3.4/dist-packages/ipykernel/__main__.py:2: FutureWarning: convert_objects is deprecated.  Use the data-type specific converters pd.to_datetime, pd.to_timedelta and pd.to_numeric.\n",
      "  from ipykernel import kernelapp as app\n"
     ]
    },
    {
     "data": {
      "text/html": [
       "<div>\n",
       "<table border=\"1\" class=\"dataframe\">\n",
       "  <thead>\n",
       "    <tr style=\"text-align: right;\">\n",
       "      <th></th>\n",
       "      <th>node</th>\n",
       "      <th>lineal_threshold</th>\n",
       "    </tr>\n",
       "  </thead>\n",
       "  <tbody>\n",
       "    <tr>\n",
       "      <th>0</th>\n",
       "      <td>2</td>\n",
       "      <td>27</td>\n",
       "    </tr>\n",
       "    <tr>\n",
       "      <th>1</th>\n",
       "      <td>3</td>\n",
       "      <td>61</td>\n",
       "    </tr>\n",
       "    <tr>\n",
       "      <th>2</th>\n",
       "      <td>4</td>\n",
       "      <td>14320</td>\n",
       "    </tr>\n",
       "    <tr>\n",
       "      <th>3</th>\n",
       "      <td>5</td>\n",
       "      <td>26</td>\n",
       "    </tr>\n",
       "    <tr>\n",
       "      <th>4</th>\n",
       "      <td>6</td>\n",
       "      <td>85</td>\n",
       "    </tr>\n",
       "  </tbody>\n",
       "</table>\n",
       "</div>"
      ],
      "text/plain": [
       "   node lineal_threshold\n",
       "0     2               27\n",
       "1     3               61\n",
       "2     4            14320\n",
       "3     5               26\n",
       "4     6               85"
      ]
     },
     "execution_count": 5,
     "metadata": {},
     "output_type": "execute_result"
    }
   ],
   "source": [
    "ltc = pd.DataFrame([[key,value] for key,value in ltc_dict.items()],columns=[\"node\",\"lineal_threshold\"])\n",
    "ltc['node'] = ltc['node'].convert_objects(convert_numeric=True)\n",
    "ltc.sort_values('node', inplace = True)\n",
    "ltc.reset_index(drop=True, inplace = True)\n",
    "ltc.head()"
   ]
  },
  {
   "cell_type": "code",
   "execution_count": 6,
   "metadata": {
    "collapsed": false
   },
   "outputs": [],
   "source": [
    "del ltcA['node']\n",
    "del ltc['node']\n",
    "del pgr['node']\n",
    "del deg['node']\n",
    "del clos['node']\n",
    "del bet['node']"
   ]
  },
  {
   "cell_type": "code",
   "execution_count": 7,
   "metadata": {
    "collapsed": false
   },
   "outputs": [
    {
     "name": "stderr",
     "output_type": "stream",
     "text": [
      "/usr/local/lib/python3.4/dist-packages/ipykernel/__main__.py:2: FutureWarning: convert_objects is deprecated.  Use the data-type specific converters pd.to_datetime, pd.to_timedelta and pd.to_numeric.\n",
      "  from ipykernel import kernelapp as app\n"
     ]
    },
    {
     "data": {
      "text/html": [
       "<div>\n",
       "<table border=\"1\" class=\"dataframe\">\n",
       "  <thead>\n",
       "    <tr style=\"text-align: right;\">\n",
       "      <th></th>\n",
       "      <th>node</th>\n",
       "      <th>katz_centrality</th>\n",
       "      <th>lineal_threshold</th>\n",
       "      <th>lineal_threshold_alternative</th>\n",
       "      <th>pagerank</th>\n",
       "      <th>degree</th>\n",
       "      <th>closs</th>\n",
       "      <th>betweenness</th>\n",
       "    </tr>\n",
       "  </thead>\n",
       "  <tbody>\n",
       "    <tr>\n",
       "      <th>0</th>\n",
       "      <td>2</td>\n",
       "      <td>0.001769</td>\n",
       "      <td>27</td>\n",
       "      <td>1</td>\n",
       "      <td>0.000003</td>\n",
       "      <td>0.000004</td>\n",
       "      <td>0.000000</td>\n",
       "      <td>0.000000</td>\n",
       "    </tr>\n",
       "    <tr>\n",
       "      <th>1</th>\n",
       "      <td>3</td>\n",
       "      <td>0.001769</td>\n",
       "      <td>61</td>\n",
       "      <td>1</td>\n",
       "      <td>0.000003</td>\n",
       "      <td>0.000004</td>\n",
       "      <td>0.000000</td>\n",
       "      <td>0.000000</td>\n",
       "    </tr>\n",
       "    <tr>\n",
       "      <th>2</th>\n",
       "      <td>4</td>\n",
       "      <td>0.003088</td>\n",
       "      <td>14320</td>\n",
       "      <td>93</td>\n",
       "      <td>0.000004</td>\n",
       "      <td>0.000320</td>\n",
       "      <td>0.000329</td>\n",
       "      <td>0.000002</td>\n",
       "    </tr>\n",
       "    <tr>\n",
       "      <th>3</th>\n",
       "      <td>5</td>\n",
       "      <td>0.001608</td>\n",
       "      <td>26</td>\n",
       "      <td>26</td>\n",
       "      <td>0.000003</td>\n",
       "      <td>0.000094</td>\n",
       "      <td>0.000096</td>\n",
       "      <td>0.000000</td>\n",
       "    </tr>\n",
       "    <tr>\n",
       "      <th>4</th>\n",
       "      <td>6</td>\n",
       "      <td>0.001608</td>\n",
       "      <td>85</td>\n",
       "      <td>85</td>\n",
       "      <td>0.000003</td>\n",
       "      <td>0.000324</td>\n",
       "      <td>0.000324</td>\n",
       "      <td>0.000000</td>\n",
       "    </tr>\n",
       "  </tbody>\n",
       "</table>\n",
       "</div>"
      ],
      "text/plain": [
       "   node  katz_centrality  lineal_threshold  lineal_threshold_alternative  \\\n",
       "0     2         0.001769                27                             1   \n",
       "1     3         0.001769                61                             1   \n",
       "2     4         0.003088             14320                            93   \n",
       "3     5         0.001608                26                            26   \n",
       "4     6         0.001608                85                            85   \n",
       "\n",
       "   pagerank    degree     closs  betweenness  \n",
       "0  0.000003  0.000004  0.000000     0.000000  \n",
       "1  0.000003  0.000004  0.000000     0.000000  \n",
       "2  0.000004  0.000320  0.000329     0.000002  \n",
       "3  0.000003  0.000094  0.000096     0.000000  \n",
       "4  0.000003  0.000324  0.000324     0.000000  "
      ]
     },
     "execution_count": 7,
     "metadata": {},
     "output_type": "execute_result"
    }
   ],
   "source": [
    "influence_model = pd.concat([ktz,ltc, ltcA, pgr, deg, clos, bet], axis=1)\n",
    "influence_model['lineal_threshold'] = influence_model['lineal_threshold'].convert_objects(convert_numeric=True)\n",
    "influence_model.head()"
   ]
  },
  {
   "cell_type": "code",
   "execution_count": 8,
   "metadata": {
    "collapsed": false
   },
   "outputs": [
    {
     "data": {
      "text/plain": [
       "53015"
      ]
     },
     "execution_count": 8,
     "metadata": {},
     "output_type": "execute_result"
    }
   ],
   "source": [
    "influence_model['lineal_threshold'].max()"
   ]
  },
  {
   "cell_type": "code",
   "execution_count": 9,
   "metadata": {
    "collapsed": false
   },
   "outputs": [],
   "source": [
    "# select columns to plot\n",
    "influence_model = influence_model[['node', 'lineal_threshold', 'katz_centrality', 'pagerank']]\n",
    "\n",
    "# Normalize lineal_threshold\n",
    "influence_model['lineal_threshold'] = influence_model['lineal_threshold'].astype(float)\n",
    "influence_model['lineal_threshold'] = (influence_model['lineal_threshold'] / 53015)"
   ]
  },
  {
   "cell_type": "code",
   "execution_count": 10,
   "metadata": {
    "collapsed": false
   },
   "outputs": [
    {
     "name": "stdout",
     "output_type": "stream",
     "text": [
      "Populating the interactive namespace from numpy and matplotlib\n"
     ]
    }
   ],
   "source": [
    "import matplotlib\n",
    "import numpy as np\n",
    "import matplotlib.pyplot as plt\n",
    "import seaborn as sns\n",
    "\n",
    "%matplotlib inline\n",
    "%pylab inline\n",
    "\n",
    "pylab.rcParams['figure.figsize'] = (12, 7)"
   ]
  },
  {
   "cell_type": "code",
   "execution_count": 11,
   "metadata": {
    "collapsed": false
   },
   "outputs": [
    {
     "data": {
      "image/png": "[encoded data removed]",
      "text/plain": [
       "<matplotlib.figure.Figure at 0x7f0e7d0185c0>"
      ]
     },
     "metadata": {},
     "output_type": "display_data"
    }
   ],
   "source": [
    "influence_model['node'] = influence_model['node'].astype(str)\n",
    "\n",
    "_ = influence_model.plot(subplots=True)"
   ]
  },
  {
   "cell_type": "code",
   "execution_count": 12,
   "metadata": {
    "collapsed": false
   },
   "outputs": [],
   "source": [
    "#_ = influence_model.plot.bar()"
   ]
  },
  {
   "cell_type": "code",
   "execution_count": 13,
   "metadata": {
    "collapsed": false
   },
   "outputs": [
    {
     "data": {
      "text/html": [
       "<div>\n",
       "<table border=\"1\" class=\"dataframe\">\n",
       "  <thead>\n",
       "    <tr style=\"text-align: right;\">\n",
       "      <th></th>\n",
       "      <th>lineal_threshold</th>\n",
       "      <th>katz_centrality</th>\n",
       "      <th>pagerank</th>\n",
       "    </tr>\n",
       "  </thead>\n",
       "  <tbody>\n",
       "    <tr>\n",
       "      <th>lineal_threshold</th>\n",
       "      <td>1.000000</td>\n",
       "      <td>0.368998</td>\n",
       "      <td>-0.004114</td>\n",
       "    </tr>\n",
       "    <tr>\n",
       "      <th>katz_centrality</th>\n",
       "      <td>0.368998</td>\n",
       "      <td>1.000000</td>\n",
       "      <td>0.299347</td>\n",
       "    </tr>\n",
       "    <tr>\n",
       "      <th>pagerank</th>\n",
       "      <td>-0.004114</td>\n",
       "      <td>0.299347</td>\n",
       "      <td>1.000000</td>\n",
       "    </tr>\n",
       "  </tbody>\n",
       "</table>\n",
       "</div>"
      ],
      "text/plain": [
       "                  lineal_threshold  katz_centrality  pagerank\n",
       "lineal_threshold          1.000000         0.368998 -0.004114\n",
       "katz_centrality           0.368998         1.000000  0.299347\n",
       "pagerank                 -0.004114         0.299347  1.000000"
      ]
     },
     "execution_count": 13,
     "metadata": {},
     "output_type": "execute_result"
    }
   ],
   "source": [
    "influence_model.corr()"
   ]
  },
  {
   "cell_type": "code",
   "execution_count": 14,
   "metadata": {
    "collapsed": false
   },
   "outputs": [
    {
     "data": {
      "text/html": [
       "<div>\n",
       "<table border=\"1\" class=\"dataframe\">\n",
       "  <thead>\n",
       "    <tr style=\"text-align: right;\">\n",
       "      <th></th>\n",
       "      <th>lineal_threshold</th>\n",
       "      <th>katz_centrality</th>\n",
       "      <th>pagerank</th>\n",
       "    </tr>\n",
       "  </thead>\n",
       "  <tbody>\n",
       "    <tr>\n",
       "      <th>lineal_threshold</th>\n",
       "      <td>1.000000</td>\n",
       "      <td>0.501715</td>\n",
       "      <td>-0.298902</td>\n",
       "    </tr>\n",
       "    <tr>\n",
       "      <th>katz_centrality</th>\n",
       "      <td>0.501715</td>\n",
       "      <td>1.000000</td>\n",
       "      <td>0.387972</td>\n",
       "    </tr>\n",
       "    <tr>\n",
       "      <th>pagerank</th>\n",
       "      <td>-0.298902</td>\n",
       "      <td>0.387972</td>\n",
       "      <td>1.000000</td>\n",
       "    </tr>\n",
       "  </tbody>\n",
       "</table>\n",
       "</div>"
      ],
      "text/plain": [
       "                  lineal_threshold  katz_centrality  pagerank\n",
       "lineal_threshold          1.000000         0.501715 -0.298902\n",
       "katz_centrality           0.501715         1.000000  0.387972\n",
       "pagerank                 -0.298902         0.387972  1.000000"
      ]
     },
     "execution_count": 14,
     "metadata": {},
     "output_type": "execute_result"
    }
   ],
   "source": [
    "influence_model.corr(method='spearman')"
   ]
  },
  {
   "cell_type": "code",
   "execution_count": 15,
   "metadata": {
    "collapsed": false
   },
   "outputs": [
    {
     "data": {
      "text/html": [
       "<div>\n",
       "<table border=\"1\" class=\"dataframe\">\n",
       "  <thead>\n",
       "    <tr style=\"text-align: right;\">\n",
       "      <th></th>\n",
       "      <th>lineal_threshold</th>\n",
       "      <th>katz_centrality</th>\n",
       "      <th>pagerank</th>\n",
       "    </tr>\n",
       "  </thead>\n",
       "  <tbody>\n",
       "    <tr>\n",
       "      <th>lineal_threshold</th>\n",
       "      <td>1.000000</td>\n",
       "      <td>0.380024</td>\n",
       "      <td>-0.335483</td>\n",
       "    </tr>\n",
       "    <tr>\n",
       "      <th>katz_centrality</th>\n",
       "      <td>0.380024</td>\n",
       "      <td>1.000000</td>\n",
       "      <td>0.289033</td>\n",
       "    </tr>\n",
       "    <tr>\n",
       "      <th>pagerank</th>\n",
       "      <td>-0.335483</td>\n",
       "      <td>0.289033</td>\n",
       "      <td>1.000000</td>\n",
       "    </tr>\n",
       "  </tbody>\n",
       "</table>\n",
       "</div>"
      ],
      "text/plain": [
       "                  lineal_threshold  katz_centrality  pagerank\n",
       "lineal_threshold          1.000000         0.380024 -0.335483\n",
       "katz_centrality           0.380024         1.000000  0.289033\n",
       "pagerank                 -0.335483         0.289033  1.000000"
      ]
     },
     "execution_count": 15,
     "metadata": {},
     "output_type": "execute_result"
    }
   ],
   "source": [
    "influence_model.corr(method='kendall')"
   ]
  }
 ],
 "metadata": {
  "kernelspec": {
   "display_name": "Python 3",
   "language": "python",
   "name": "python3"
  },
  "language_info": {
   "codemirror_mode": {
    "name": "ipython",
    "version": 3
   },
   "file_extension": ".py",
   "mimetype": "text/x-python",
   "name": "python",
   "nbconvert_exporter": "python",
   "pygments_lexer": "ipython3",
   "version": "3.4.3"
  }
 },
 "nbformat": 4,
 "nbformat_minor": 1
}
