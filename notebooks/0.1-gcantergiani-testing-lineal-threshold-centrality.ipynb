{
 "cells": [
  {
   "cell_type": "code",
   "execution_count": 2,
   "metadata": {
    "collapsed": true
   },
   "outputs": [],
   "source": [
    "import networkx as nx\n",
    "import pandas as pd\n",
    "import sys\n",
    "import numpy as np"
   ]
  },
  {
   "cell_type": "code",
   "execution_count": 3,
   "metadata": {
    "collapsed": true
   },
   "outputs": [],
   "source": [
    "PATH = \"../data/\"\n",
    "\n",
    "FILE_NETWORK_RETWEET_WEIGHT_EXAMPLE = \"higgs-retweet_network_example.edgelist\"\n",
    "FILE_NETWORK_RETWEET_WEIGHT = \"higgs-retweet_network.edgelist\""
   ]
  },
  {
   "cell_type": "code",
   "execution_count": 4,
   "metadata": {
    "collapsed": false
   },
   "outputs": [
    {
     "data": {
      "text/html": [
       "<div>\n",
       "<table border=\"1\" class=\"dataframe\">\n",
       "  <thead>\n",
       "    <tr style=\"text-align: right;\">\n",
       "      <th></th>\n",
       "      <th>source</th>\n",
       "      <th>target</th>\n",
       "      <th>weight</th>\n",
       "    </tr>\n",
       "  </thead>\n",
       "  <tbody>\n",
       "    <tr>\n",
       "      <th>0</th>\n",
       "      <td>10</td>\n",
       "      <td>5</td>\n",
       "      <td>2</td>\n",
       "    </tr>\n",
       "    <tr>\n",
       "      <th>1</th>\n",
       "      <td>10</td>\n",
       "      <td>7</td>\n",
       "      <td>3</td>\n",
       "    </tr>\n",
       "    <tr>\n",
       "      <th>2</th>\n",
       "      <td>7</td>\n",
       "      <td>5</td>\n",
       "      <td>2</td>\n",
       "    </tr>\n",
       "    <tr>\n",
       "      <th>3</th>\n",
       "      <td>2</td>\n",
       "      <td>5</td>\n",
       "      <td>3</td>\n",
       "    </tr>\n",
       "    <tr>\n",
       "      <th>4</th>\n",
       "      <td>3</td>\n",
       "      <td>2</td>\n",
       "      <td>1</td>\n",
       "    </tr>\n",
       "    <tr>\n",
       "      <th>5</th>\n",
       "      <td>25</td>\n",
       "      <td>7</td>\n",
       "      <td>1</td>\n",
       "    </tr>\n",
       "    <tr>\n",
       "      <th>6</th>\n",
       "      <td>25</td>\n",
       "      <td>30</td>\n",
       "      <td>1</td>\n",
       "    </tr>\n",
       "    <tr>\n",
       "      <th>7</th>\n",
       "      <td>30</td>\n",
       "      <td>5</td>\n",
       "      <td>2</td>\n",
       "    </tr>\n",
       "  </tbody>\n",
       "</table>\n",
       "</div>"
      ],
      "text/plain": [
       "   source  target  weight\n",
       "0      10       5       2\n",
       "1      10       7       3\n",
       "2       7       5       2\n",
       "3       2       5       3\n",
       "4       3       2       1\n",
       "5      25       7       1\n",
       "6      25      30       1\n",
       "7      30       5       2"
      ]
     },
     "execution_count": 4,
     "metadata": {},
     "output_type": "execute_result"
    }
   ],
   "source": [
    "data = pd.read_csv(FILE_NETWORK_RETWEET_WEIGHT_EXAMPLE, sep=' ', names = ['source', 'target','weight'])\n",
    "\n",
    "data"
   ]
  },
  {
   "cell_type": "code",
   "execution_count": 5,
   "metadata": {
    "collapsed": true
   },
   "outputs": [],
   "source": [
    "G1 = nx.DiGraph()\n",
    "for idx,row in data.iterrows():\n",
    "    G1.add_edge(row['target'], row['source'], weight= row['weight'])\n",
    "    \n",
    "G2 = nx.DiGraph()\n",
    "for idx,row in data.iterrows():\n",
    "    G2.add_edge(row['source'], row['target'], weight= row['weight'])    "
   ]
  },
  {
   "cell_type": "code",
   "execution_count": 6,
   "metadata": {
    "collapsed": false
   },
   "outputs": [],
   "source": [
    "nodes = []\n",
    "for node in G1.nodes_iter():\n",
    "    nodes.append(node)\n",
    "    \n",
    "nodes = list(set(nodes))\n",
    "\n",
    "for n in nodes:\n",
    "    \n",
    "    if(G1.in_degree(n) == 0):\n",
    "        plurality = sys.maxsize\n",
    "    else:\n",
    "        sum_weight = 0\n",
    "        \n",
    "        for g2_node_source in G2.neighbors(n):\n",
    "            sum_weight = sum_weight + G1.get_edge_data(g2_node_source,n)['weight']\n",
    "            \n",
    "        plurality = int(sum_weight/2) + 1\n",
    "        \n",
    "    G1.node[n]['plurality'] = plurality\n",
    "    \n",
    "    #print('Node: {0} \\t in_degree: {1} \\t plurality: {2}'.format(n, G1.in_degree(n), G1.node[n]['plurality']))"
   ]
  },
  {
   "cell_type": "code",
   "execution_count": 7,
   "metadata": {
    "collapsed": false
   },
   "outputs": [],
   "source": [
    "node_to_pandas = []\n",
    "lineal_threshold_to_pandas = []\n"
   ]
  },
  {
   "cell_type": "code",
   "execution_count": 12,
   "metadata": {
    "collapsed": false
   },
   "outputs": [
    {
     "name": "stdout",
     "output_type": "stream",
     "text": [
      "Node: 2\n",
      "G1.neighbors(n): [3]\n",
      "G2.neighbors(n): [5]\n",
      "Node: 3\n",
      "G1.neighbors(n): []\n",
      "G2.neighbors(n): [2]\n",
      "Node: 5\n",
      "G1.neighbors(n): [10, 2, 30, 7]\n",
      "G2.neighbors(n): []\n",
      "Node: 7\n",
      "G1.neighbors(n): [25, 10]\n",
      "G2.neighbors(n): [5]\n",
      "Node: 10\n",
      "G1.neighbors(n): []\n",
      "G2.neighbors(n): [5, 7]\n",
      "Node: 25\n",
      "G1.neighbors(n): []\n",
      "G2.neighbors(n): [30, 7]\n",
      "Node: 30\n",
      "G1.neighbors(n): [25]\n",
      "G2.neighbors(n): [5]\n"
     ]
    }
   ],
   "source": [
    "ALERNATIVE_BOOSTRAP_NEIGHBORS_ELECTION = True\n",
    "\n",
    "for idx, n in enumerate(nodes):\n",
    "    \n",
    "    print('Node: {0}'.format(n))\n",
    "    \n",
    "    #add to list (pandas)\n",
    "    node_to_pandas.append(n)\n",
    "    \n",
    "    first_step_per_node = True\n",
    "    \n",
    "    nodes_to_add_group = []\n",
    "    \n",
    "    neighbors = []\n",
    "    \n",
    "    if(ALERNATIVE_BOOSTRAP_NEIGHBORS_ELECTION):\n",
    "        neighbors.extend(G1.neighbors(n))\n",
    "    else:\n",
    "        neighbors.extend(G1.neighbors(n))\n",
    "        neighbors.extend(G2.neighbors(n))\n",
    "    \n",
    "    group = []\n",
    "    \n",
    "    group.append(n)\n",
    "    group.extend(neighbors)\n",
    "    \n",
    "    while( first_step_per_node or (len(nodes_to_add_group) >= 1) ):\n",
    "        \n",
    "        first_step_per_node = False\n",
    "        \n",
    "        neighbors.extend(nodes_to_add_group)\n",
    "        group.extend(nodes_to_add_group)\n",
    "        \n",
    "        nodes_to_add_group = []\n",
    "    \n",
    "        #print('\\t neighbors: {1}'.format(n, neighbors))\n",
    "\n",
    "        dispersion = []\n",
    "\n",
    "        vei = []\n",
    "        for v in neighbors:\n",
    "            vei.extend(G1.neighbors(v))\n",
    "\n",
    "        dispersion = list(set(vei) - set(group))\n",
    "\n",
    "        #print('\\t dispersion {0} '.format(dispersion))\n",
    "\n",
    "        for n_sub_level in dispersion:\n",
    "            plurality = G1.node[n_sub_level]['plurality']\n",
    "            #print('\\t \\t Reach node {0} | plurality {1}'.format(n_sub_level,plurality))\n",
    "\n",
    "            group_influce = 0\n",
    "            for node_group in group:\n",
    "                if(G1.get_edge_data(node_group,n_sub_level)):\n",
    "                    group_influce = group_influce + G1.get_edge_data(node_group,n_sub_level)['weight']\n",
    "\n",
    "            #print('\\t \\t group {0} | influce {1}'.format(group, group_influce))\n",
    "\n",
    "            if(group_influce >= plurality):\n",
    "                nodes_to_add_group.append(n_sub_level)\n",
    "\n",
    "        #print('\\t \\t \\t new group {0} '.format(nodes_to_add_group))\n",
    "\n",
    "        #print()\n",
    "        \n",
    "\n",
    "    lineal_threshold_to_pandas.append(len(neighbors) + 1)\n",
    "    #print(\"--------------------------------------------------------------------\")"
   ]
  },
  {
   "cell_type": "code",
   "execution_count": 9,
   "metadata": {
    "collapsed": false
   },
   "outputs": [],
   "source": [
    "df_centrality = pd.DataFrame(node_to_pandas, columns=[\"node\"])\n",
    "df_centrality[\"lineal_threshold\"] = lineal_threshold_to_pandas"
   ]
  },
  {
   "cell_type": "code",
   "execution_count": 10,
   "metadata": {
    "collapsed": false
   },
   "outputs": [
    {
     "data": {
      "text/html": [
       "<div>\n",
       "<table border=\"1\" class=\"dataframe\">\n",
       "  <thead>\n",
       "    <tr style=\"text-align: right;\">\n",
       "      <th></th>\n",
       "      <th>node</th>\n",
       "      <th>lineal_threshold</th>\n",
       "    </tr>\n",
       "  </thead>\n",
       "  <tbody>\n",
       "    <tr>\n",
       "      <th>0</th>\n",
       "      <td>2</td>\n",
       "      <td>7</td>\n",
       "    </tr>\n",
       "    <tr>\n",
       "      <th>1</th>\n",
       "      <td>3</td>\n",
       "      <td>2</td>\n",
       "    </tr>\n",
       "    <tr>\n",
       "      <th>2</th>\n",
       "      <td>5</td>\n",
       "      <td>7</td>\n",
       "    </tr>\n",
       "    <tr>\n",
       "      <th>3</th>\n",
       "      <td>7</td>\n",
       "      <td>7</td>\n",
       "    </tr>\n",
       "    <tr>\n",
       "      <th>4</th>\n",
       "      <td>10</td>\n",
       "      <td>7</td>\n",
       "    </tr>\n",
       "    <tr>\n",
       "      <th>5</th>\n",
       "      <td>25</td>\n",
       "      <td>4</td>\n",
       "    </tr>\n",
       "    <tr>\n",
       "      <th>6</th>\n",
       "      <td>30</td>\n",
       "      <td>7</td>\n",
       "    </tr>\n",
       "  </tbody>\n",
       "</table>\n",
       "</div>"
      ],
      "text/plain": [
       "   node  lineal_threshold\n",
       "0     2                 7\n",
       "1     3                 2\n",
       "2     5                 7\n",
       "3     7                 7\n",
       "4    10                 7\n",
       "5    25                 4\n",
       "6    30                 7"
      ]
     },
     "execution_count": 10,
     "metadata": {},
     "output_type": "execute_result"
    }
   ],
   "source": [
    "df_centrality"
   ]
  },
  {
   "cell_type": "code",
   "execution_count": null,
   "metadata": {
    "collapsed": true
   },
   "outputs": [],
   "source": [
    "df_centrality.to_csv('lineal_threshold_centrality.csv', index = False )"
   ]
  }
 ],
 "metadata": {
  "kernelspec": {
   "display_name": "Python 3",
   "language": "python",
   "name": "python3"
  },
  "language_info": {
   "codemirror_mode": {
    "name": "ipython",
    "version": 3
   },
   "file_extension": ".py",
   "mimetype": "text/x-python",
   "name": "python",
   "nbconvert_exporter": "python",
   "pygments_lexer": "ipython3",
   "version": "3.4.3"
  }
 },
 "nbformat": 4,
 "nbformat_minor": 1
}
